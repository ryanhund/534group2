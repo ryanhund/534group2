{
 "cells": [
  {
   "cell_type": "markdown",
   "metadata": {},
   "source": [
    "The data used for these visualizations is 2018 ACS 5-Year Estimate data downloaded from the U.S. Census Bureau. The data set contains census tract-level data for Los Angeles County, and includes variables relevant for our analysis including:\n",
    "\n",
    "Employment rate for persons over 16;\n",
    "Unemployment rate; \n",
    "Median household income;\n",
    "Population;\n",
    "Percent of white residents;\n",
    "Percent of Asian residents;\n",
    "Percent of residents with race (other);\n",
    "Total housing units;\n",
    "Median home value;\n",
    "Percent of residents with health insurance coverage;\n",
    "Percent of residents under the poverty level\n"
   ]
  },
  {
   "cell_type": "code",
   "execution_count": 1,
   "metadata": {},
   "outputs": [],
   "source": [
    "# import pandas as pd\n",
    "\n",
    "import pandas as pd\n",
    "import numpy as np\n",
    "import seaborn as sns"
   ]
  },
  {
   "cell_type": "code",
   "execution_count": 2,
   "metadata": {},
   "outputs": [
    {
     "ename": "FileNotFoundError",
     "evalue": "[Errno 2] File b'tractdata.csv' does not exist: b'tractdata.csv'",
     "output_type": "error",
     "traceback": [
      "\u001b[0;31m---------------------------------------------------------------------------\u001b[0m",
      "\u001b[0;31mFileNotFoundError\u001b[0m                         Traceback (most recent call last)",
      "\u001b[0;32m<ipython-input-2-fa1ff9ffd0ae>\u001b[0m in \u001b[0;36m<module>\u001b[0;34m\u001b[0m\n\u001b[1;32m      1\u001b[0m \u001b[0;31m# load ACS data\u001b[0m\u001b[0;34m\u001b[0m\u001b[0;34m\u001b[0m\u001b[0;34m\u001b[0m\u001b[0m\n\u001b[0;32m----> 2\u001b[0;31m \u001b[0mdf\u001b[0m \u001b[0;34m=\u001b[0m \u001b[0mpd\u001b[0m\u001b[0;34m.\u001b[0m\u001b[0mread_csv\u001b[0m\u001b[0;34m(\u001b[0m\u001b[0;34m'tractdata.csv'\u001b[0m\u001b[0;34m,\u001b[0m \u001b[0mdtype\u001b[0m\u001b[0;34m=\u001b[0m\u001b[0;34m{\u001b[0m\u001b[0;34m'GEOID11'\u001b[0m\u001b[0;34m:\u001b[0m\u001b[0mstr\u001b[0m\u001b[0;34m}\u001b[0m\u001b[0;34m)\u001b[0m\u001b[0;34m\u001b[0m\u001b[0;34m\u001b[0m\u001b[0m\n\u001b[0m\u001b[1;32m      3\u001b[0m \u001b[0mdf\u001b[0m\u001b[0;34m.\u001b[0m\u001b[0mshape\u001b[0m\u001b[0;34m\u001b[0m\u001b[0;34m\u001b[0m\u001b[0m\n",
      "\u001b[0;32m/opt/conda/lib/python3.8/site-packages/pandas/io/parsers.py\u001b[0m in \u001b[0;36mparser_f\u001b[0;34m(filepath_or_buffer, sep, delimiter, header, names, index_col, usecols, squeeze, prefix, mangle_dupe_cols, dtype, engine, converters, true_values, false_values, skipinitialspace, skiprows, skipfooter, nrows, na_values, keep_default_na, na_filter, verbose, skip_blank_lines, parse_dates, infer_datetime_format, keep_date_col, date_parser, dayfirst, cache_dates, iterator, chunksize, compression, thousands, decimal, lineterminator, quotechar, quoting, doublequote, escapechar, comment, encoding, dialect, error_bad_lines, warn_bad_lines, delim_whitespace, low_memory, memory_map, float_precision)\u001b[0m\n\u001b[1;32m    683\u001b[0m         )\n\u001b[1;32m    684\u001b[0m \u001b[0;34m\u001b[0m\u001b[0m\n\u001b[0;32m--> 685\u001b[0;31m         \u001b[0;32mreturn\u001b[0m \u001b[0m_read\u001b[0m\u001b[0;34m(\u001b[0m\u001b[0mfilepath_or_buffer\u001b[0m\u001b[0;34m,\u001b[0m \u001b[0mkwds\u001b[0m\u001b[0;34m)\u001b[0m\u001b[0;34m\u001b[0m\u001b[0;34m\u001b[0m\u001b[0m\n\u001b[0m\u001b[1;32m    686\u001b[0m \u001b[0;34m\u001b[0m\u001b[0m\n\u001b[1;32m    687\u001b[0m     \u001b[0mparser_f\u001b[0m\u001b[0;34m.\u001b[0m\u001b[0m__name__\u001b[0m \u001b[0;34m=\u001b[0m \u001b[0mname\u001b[0m\u001b[0;34m\u001b[0m\u001b[0;34m\u001b[0m\u001b[0m\n",
      "\u001b[0;32m/opt/conda/lib/python3.8/site-packages/pandas/io/parsers.py\u001b[0m in \u001b[0;36m_read\u001b[0;34m(filepath_or_buffer, kwds)\u001b[0m\n\u001b[1;32m    455\u001b[0m \u001b[0;34m\u001b[0m\u001b[0m\n\u001b[1;32m    456\u001b[0m     \u001b[0;31m# Create the parser.\u001b[0m\u001b[0;34m\u001b[0m\u001b[0;34m\u001b[0m\u001b[0;34m\u001b[0m\u001b[0m\n\u001b[0;32m--> 457\u001b[0;31m     \u001b[0mparser\u001b[0m \u001b[0;34m=\u001b[0m \u001b[0mTextFileReader\u001b[0m\u001b[0;34m(\u001b[0m\u001b[0mfp_or_buf\u001b[0m\u001b[0;34m,\u001b[0m \u001b[0;34m**\u001b[0m\u001b[0mkwds\u001b[0m\u001b[0;34m)\u001b[0m\u001b[0;34m\u001b[0m\u001b[0;34m\u001b[0m\u001b[0m\n\u001b[0m\u001b[1;32m    458\u001b[0m \u001b[0;34m\u001b[0m\u001b[0m\n\u001b[1;32m    459\u001b[0m     \u001b[0;32mif\u001b[0m \u001b[0mchunksize\u001b[0m \u001b[0;32mor\u001b[0m \u001b[0miterator\u001b[0m\u001b[0;34m:\u001b[0m\u001b[0;34m\u001b[0m\u001b[0;34m\u001b[0m\u001b[0m\n",
      "\u001b[0;32m/opt/conda/lib/python3.8/site-packages/pandas/io/parsers.py\u001b[0m in \u001b[0;36m__init__\u001b[0;34m(self, f, engine, **kwds)\u001b[0m\n\u001b[1;32m    893\u001b[0m             \u001b[0mself\u001b[0m\u001b[0;34m.\u001b[0m\u001b[0moptions\u001b[0m\u001b[0;34m[\u001b[0m\u001b[0;34m\"has_index_names\"\u001b[0m\u001b[0;34m]\u001b[0m \u001b[0;34m=\u001b[0m \u001b[0mkwds\u001b[0m\u001b[0;34m[\u001b[0m\u001b[0;34m\"has_index_names\"\u001b[0m\u001b[0;34m]\u001b[0m\u001b[0;34m\u001b[0m\u001b[0;34m\u001b[0m\u001b[0m\n\u001b[1;32m    894\u001b[0m \u001b[0;34m\u001b[0m\u001b[0m\n\u001b[0;32m--> 895\u001b[0;31m         \u001b[0mself\u001b[0m\u001b[0;34m.\u001b[0m\u001b[0m_make_engine\u001b[0m\u001b[0;34m(\u001b[0m\u001b[0mself\u001b[0m\u001b[0;34m.\u001b[0m\u001b[0mengine\u001b[0m\u001b[0;34m)\u001b[0m\u001b[0;34m\u001b[0m\u001b[0;34m\u001b[0m\u001b[0m\n\u001b[0m\u001b[1;32m    896\u001b[0m \u001b[0;34m\u001b[0m\u001b[0m\n\u001b[1;32m    897\u001b[0m     \u001b[0;32mdef\u001b[0m \u001b[0mclose\u001b[0m\u001b[0;34m(\u001b[0m\u001b[0mself\u001b[0m\u001b[0;34m)\u001b[0m\u001b[0;34m:\u001b[0m\u001b[0;34m\u001b[0m\u001b[0;34m\u001b[0m\u001b[0m\n",
      "\u001b[0;32m/opt/conda/lib/python3.8/site-packages/pandas/io/parsers.py\u001b[0m in \u001b[0;36m_make_engine\u001b[0;34m(self, engine)\u001b[0m\n\u001b[1;32m   1133\u001b[0m     \u001b[0;32mdef\u001b[0m \u001b[0m_make_engine\u001b[0m\u001b[0;34m(\u001b[0m\u001b[0mself\u001b[0m\u001b[0;34m,\u001b[0m \u001b[0mengine\u001b[0m\u001b[0;34m=\u001b[0m\u001b[0;34m\"c\"\u001b[0m\u001b[0;34m)\u001b[0m\u001b[0;34m:\u001b[0m\u001b[0;34m\u001b[0m\u001b[0;34m\u001b[0m\u001b[0m\n\u001b[1;32m   1134\u001b[0m         \u001b[0;32mif\u001b[0m \u001b[0mengine\u001b[0m \u001b[0;34m==\u001b[0m \u001b[0;34m\"c\"\u001b[0m\u001b[0;34m:\u001b[0m\u001b[0;34m\u001b[0m\u001b[0;34m\u001b[0m\u001b[0m\n\u001b[0;32m-> 1135\u001b[0;31m             \u001b[0mself\u001b[0m\u001b[0;34m.\u001b[0m\u001b[0m_engine\u001b[0m \u001b[0;34m=\u001b[0m \u001b[0mCParserWrapper\u001b[0m\u001b[0;34m(\u001b[0m\u001b[0mself\u001b[0m\u001b[0;34m.\u001b[0m\u001b[0mf\u001b[0m\u001b[0;34m,\u001b[0m \u001b[0;34m**\u001b[0m\u001b[0mself\u001b[0m\u001b[0;34m.\u001b[0m\u001b[0moptions\u001b[0m\u001b[0;34m)\u001b[0m\u001b[0;34m\u001b[0m\u001b[0;34m\u001b[0m\u001b[0m\n\u001b[0m\u001b[1;32m   1136\u001b[0m         \u001b[0;32melse\u001b[0m\u001b[0;34m:\u001b[0m\u001b[0;34m\u001b[0m\u001b[0;34m\u001b[0m\u001b[0m\n\u001b[1;32m   1137\u001b[0m             \u001b[0;32mif\u001b[0m \u001b[0mengine\u001b[0m \u001b[0;34m==\u001b[0m \u001b[0;34m\"python\"\u001b[0m\u001b[0;34m:\u001b[0m\u001b[0;34m\u001b[0m\u001b[0;34m\u001b[0m\u001b[0m\n",
      "\u001b[0;32m/opt/conda/lib/python3.8/site-packages/pandas/io/parsers.py\u001b[0m in \u001b[0;36m__init__\u001b[0;34m(self, src, **kwds)\u001b[0m\n\u001b[1;32m   1915\u001b[0m         \u001b[0mkwds\u001b[0m\u001b[0;34m[\u001b[0m\u001b[0;34m\"usecols\"\u001b[0m\u001b[0;34m]\u001b[0m \u001b[0;34m=\u001b[0m \u001b[0mself\u001b[0m\u001b[0;34m.\u001b[0m\u001b[0musecols\u001b[0m\u001b[0;34m\u001b[0m\u001b[0;34m\u001b[0m\u001b[0m\n\u001b[1;32m   1916\u001b[0m \u001b[0;34m\u001b[0m\u001b[0m\n\u001b[0;32m-> 1917\u001b[0;31m         \u001b[0mself\u001b[0m\u001b[0;34m.\u001b[0m\u001b[0m_reader\u001b[0m \u001b[0;34m=\u001b[0m \u001b[0mparsers\u001b[0m\u001b[0;34m.\u001b[0m\u001b[0mTextReader\u001b[0m\u001b[0;34m(\u001b[0m\u001b[0msrc\u001b[0m\u001b[0;34m,\u001b[0m \u001b[0;34m**\u001b[0m\u001b[0mkwds\u001b[0m\u001b[0;34m)\u001b[0m\u001b[0;34m\u001b[0m\u001b[0;34m\u001b[0m\u001b[0m\n\u001b[0m\u001b[1;32m   1918\u001b[0m         \u001b[0mself\u001b[0m\u001b[0;34m.\u001b[0m\u001b[0munnamed_cols\u001b[0m \u001b[0;34m=\u001b[0m \u001b[0mself\u001b[0m\u001b[0;34m.\u001b[0m\u001b[0m_reader\u001b[0m\u001b[0;34m.\u001b[0m\u001b[0munnamed_cols\u001b[0m\u001b[0;34m\u001b[0m\u001b[0;34m\u001b[0m\u001b[0m\n\u001b[1;32m   1919\u001b[0m \u001b[0;34m\u001b[0m\u001b[0m\n",
      "\u001b[0;32mpandas/_libs/parsers.pyx\u001b[0m in \u001b[0;36mpandas._libs.parsers.TextReader.__cinit__\u001b[0;34m()\u001b[0m\n",
      "\u001b[0;32mpandas/_libs/parsers.pyx\u001b[0m in \u001b[0;36mpandas._libs.parsers.TextReader._setup_parser_source\u001b[0;34m()\u001b[0m\n",
      "\u001b[0;31mFileNotFoundError\u001b[0m: [Errno 2] File b'tractdata.csv' does not exist: b'tractdata.csv'"
     ]
    }
   ],
   "source": [
    "# load ACS data\n",
    "df = pd.read_csv('tractdata.csv', dtype={'GEOID11':str})\n",
    "df.shape"
   ]
  },
  {
   "cell_type": "code",
   "execution_count": null,
   "metadata": {},
   "outputs": [],
   "source": [
    "df.columns"
   ]
  },
  {
   "cell_type": "code",
   "execution_count": null,
   "metadata": {},
   "outputs": [],
   "source": [
    "# view the dataframe's \"head\"\n",
    "df.head()"
   ]
  },
  {
   "cell_type": "code",
   "execution_count": null,
   "metadata": {},
   "outputs": [],
   "source": [
    "# Extract the census tracts through which the Metro Gold Line passes\n",
    "ex_tracts = ['06037183520', '06037183610', '06037183620', '06037183701', '06037183702', '06037183810', '06037185202', '06037185310', \n",
    "             '06037199000', '06037199400', '06037206010', '06037206020', '06037207102', '06037207103', '06037400602', '06037400800', \n",
    "             '06037404600', '06037430002', '06037430101', '06037430721', '06037430801', '06037430901', '06037431100', '06037461901', \n",
    "             '06037461902', '06037462201', '06037462302', '06037462700', '06037462800', '06037462900', '06037463000', '06037463602', \n",
    "             '06037464000', '06037480600', '06037480703']\n",
    "mask = df['GEOID11'].isin(ex_tracts)\n",
    "df_extracts = df[mask]\n",
    "df_extracts.shape"
   ]
  },
  {
   "cell_type": "code",
   "execution_count": null,
   "metadata": {},
   "outputs": [],
   "source": [
    "#clean data, extract masks for each station\n",
    "df['GEOID11'] = df['GEOID11'].str.slice(-6) #pull tracts out of GEOIDs\n",
    "df = df.set_index('GEOID11') #set tracts as index"
   ]
  },
  {
   "cell_type": "code",
   "execution_count": null,
   "metadata": {},
   "outputs": [],
   "source": [
    "#clean med_hhinc column\n",
    "df['med_hhinc'] = df['med_hhinc'].replace({'250,000+':'250000','-':'0'})\n",
    "df['med_hhinc'] = df['med_hhinc'].astype(float)"
   ]
  },
  {
   "cell_type": "code",
   "execution_count": null,
   "metadata": {},
   "outputs": [],
   "source": [
    "#convert med_value to thousands\n",
    "df['med_value'] = df['med_value'] * 1000"
   ]
  },
  {
   "cell_type": "code",
   "execution_count": null,
   "metadata": {},
   "outputs": [],
   "source": [
    "#convert med_value to float\n",
    "df['med_value'] = df['med_value'].astype(float)"
   ]
  },
  {
   "cell_type": "code",
   "execution_count": null,
   "metadata": {},
   "outputs": [],
   "source": [
    "#create new dataframe for all station tracts\n",
    "df_station = df.loc[['207103','206010','207102','206020',\n",
    "                    '183610','183620','183701','183810','183520',\n",
    "                    '199000','185202','185310','199400',\n",
    "                    '480600','480703']]"
   ]
  },
  {
   "cell_type": "code",
   "execution_count": null,
   "metadata": {},
   "outputs": [],
   "source": [
    "#create new dataframe that excludes station tracts\n",
    "df_others = df.drop(['207103','206010','207102','206020',\n",
    "                    '183610','183620','183701','183810','183520',\n",
    "                    '199000','185202','185310','199400',\n",
    "                    '480600','480703'], axis = 'index')"
   ]
  },
  {
   "cell_type": "markdown",
   "metadata": {},
   "source": [
    "Descriptive Stats"
   ]
  },
  {
   "cell_type": "code",
   "execution_count": null,
   "metadata": {},
   "outputs": [],
   "source": [
    "# What is the median household income in the station tracts?\n",
    "df_station['med_hhinc'].median()"
   ]
  },
  {
   "cell_type": "code",
   "execution_count": null,
   "metadata": {},
   "outputs": [],
   "source": [
    "# What is the mean median household income in the station tracts?\n",
    "df_station['med_hhinc'].mean()"
   ]
  },
  {
   "cell_type": "code",
   "execution_count": null,
   "metadata": {},
   "outputs": [],
   "source": [
    "# What is the median household income in all other tracts?\n",
    "df_others['med_hhinc'].median()"
   ]
  },
  {
   "cell_type": "code",
   "execution_count": null,
   "metadata": {},
   "outputs": [],
   "source": [
    "# What is the median home value in the station tracts?\n",
    "df_station['med_value'].median()"
   ]
  },
  {
   "cell_type": "code",
   "execution_count": null,
   "metadata": {},
   "outputs": [],
   "source": [
    "# What is the mean median home value in the station tracts?\n",
    "df_station['med_value'].mean()"
   ]
  },
  {
   "cell_type": "code",
   "execution_count": null,
   "metadata": {},
   "outputs": [],
   "source": [
    "# What is the median home value in all other tracts?\n",
    "df_others['med_value'].median()"
   ]
  },
  {
   "cell_type": "markdown",
   "metadata": {},
   "source": [
    "Visualizations"
   ]
  },
  {
   "cell_type": "code",
   "execution_count": null,
   "metadata": {},
   "outputs": [],
   "source": [
    "#Home value histogram\n",
    "sns.set()\n",
    "sns.set_style(\"whitegrid\")\n",
    "sns.despine()\n",
    "\n",
    "valhist = sns.kdeplot(df_station['med_value'].dropna(), label ='Near Gold Line stations',\n",
    "                    shade=True)\n",
    "valhist = sns.kdeplot(df_others['med_value'].dropna(), label = 'All other tracts',\n",
    "                    shade=True)\n",
    "valhist.set_xlim(left=0,right=1000000)\n",
    "valhist.set_title('Smoothed histogram of tract-level median home values')\n",
    "valhist.set_xlabel('')\n",
    "valhist.set_ylabel('')\n",
    "valhist.get_yaxis().set_visible(False)\n",
    "\n",
    "new_labels = ['${:,.0f}'.format(x) for x in valhist.get_xticks()]\n",
    "valhist.set_xticklabels(new_labels)"
   ]
  },
  {
   "cell_type": "markdown",
   "metadata": {},
   "source": [
    "Median home values in census tracts near Metro Gold Line stations are higher than Los Angeles County census tracts overall. While this is only 2018 data, it will be interesting to compare this to 2000 and 2010 data to see how median home values changed over time."
   ]
  },
  {
   "cell_type": "code",
   "execution_count": null,
   "metadata": {},
   "outputs": [],
   "source": [
    "#income histogram\n",
    "sns.set()\n",
    "sns.set_style(\"whitegrid\")\n",
    "sns.despine()\n",
    "\n",
    "inchist = sns.kdeplot(df_station['med_hhinc'], label ='Near Gold Line stations',\n",
    "                    shade=True)\n",
    "inchist = sns.kdeplot(df_others['med_hhinc'], label = 'All other tracts',\n",
    "                    shade=True)\n",
    "inchist.set_xlim(left=0,right=150000)\n",
    "inchist.set_title('Smoothed histogram of tract-level median income')\n",
    "inchist.set_xlabel('')\n",
    "inchist.set_ylabel('')\n",
    "inchist.get_yaxis().set_visible(False)\n",
    "inc_labels = ['${:,.0f}'.format(x) for x in inchist.get_xticks()]\n",
    "inchist.set_xticklabels(inc_labels, rotation=45, horizontalalignment='right')\n"
   ]
  },
  {
   "cell_type": "markdown",
   "metadata": {},
   "source": [
    "Median incomes in the census tracts near Metro Gold Line stations are similar to the median income across all Los Angeles County census tracts. However, median incomes in the Metro Gold Line-adjacent census tracts are more concentrated than county census tracts over all. It will be interesting to compare this to data from previous years to see how median household incomes changed over time.  "
   ]
  },
  {
   "cell_type": "code",
   "execution_count": null,
   "metadata": {},
   "outputs": [],
   "source": [
    "# Identify which city each Gold Line-adjacent census tract is in\n",
    "df_extracts['city'] = df_extracts['GEOID'].str.slice(14,20)\n",
    "fips = {'183520' : 'Los Angeles', '183610' : 'Los Angeles', '183620' : 'Los Angeles', '183701' : 'Los Angeles', '183702' : 'Los Angeles', \n",
    "        '183810' : 'Los Angeles', \n",
    "        '185202' : 'Los Angeles', '185310' : 'Los Angeles', '199000' : 'Los Angeles', '199400' : 'Los Angeles', '206010' : 'Los Angeles', \n",
    "        '206020' : 'Los Angeles', '207102' : 'Los Angeles', '207103' : 'Los Angeles', '400602' : 'Azusa', '400800' : 'Azusa', \n",
    "        '404600' : 'Irwindale', '430002' : 'Duarte', '430101' : 'Duarte', '430721' : 'Arcadia', '430801': 'Arcadia', '430901' : 'Monrovia', \n",
    "        '431100' : 'Monrovia', '461901' : 'Pasadena', '461902' : 'Pasadena', '462201' : 'Pasadena', '462301' : 'Pasadena', \n",
    "        '462302' : 'Pasadena', '462700' : 'Pasadena', '462800' : 'Pasadena', '462900' : 'Pasadena', '462900' : 'Pasadena', \n",
    "        '463000' : 'Pasadena', '463602' : 'Pasadena', '464000' : 'Pasadena', '480600' : 'South Pasadena', '480703' : 'South Pasadena'}\n",
    "df_extracts['city'] = df_extracts['city'].replace(fips)\n",
    "df_extracts.set_index('GEOID11')"
   ]
  },
  {
   "cell_type": "code",
   "execution_count": null,
   "metadata": {},
   "outputs": [],
   "source": [
    "# Create bar chart that shows how many selected census tracts are in each city through which the Metro Gold Line passes to understand distribution of data\n",
    "sns.set()\n",
    "order = df_extracts['city'].value_counts().index\n",
    "kx = sns.countplot(df_extracts['city'], order=order, alpha=0.7)\n",
    "# rotate the tick labels, set x and y axis labels, then save\n",
    "kx.set_xticklabels(kx.get_xticklabels(), rotation=45, horizontalalignment='right')\n",
    "kx.set_xlabel('Cities where the Metro Gold Line passes through')\n",
    "kx.set_ylabel('Number of census tracts')\n",
    "kx.get_figure().savefig('city-tracts-countplot.png', dpi=600, bbox_inches='tight')"
   ]
  },
  {
   "cell_type": "markdown",
   "metadata": {},
   "source": [
    "This graph shows how the census tracts used for this analysis are distributed across the cities the Metro Gold Line passes through. While it is only a subsample of all census tracts near the Metro Gold Line, it provides context for the descriptive statistics calculated earlier."
   ]
  },
  {
   "cell_type": "code",
   "execution_count": null,
   "metadata": {},
   "outputs": [],
   "source": [
    "# Identify the stations within the area\n",
    "df_extracts['station'] = df_extracts['GEOID'].str.slice(14,20)\n",
    "fips = {'183520' : 'Highland Park','183610':'Highland Park','183620':'Highland Park','183701':'Highland Park/Southwest Museum','183702':'Southwest Museum',\n",
    "        '183810':'Highland Park','185202':'Heritage Square','185310':'Heritage Square','199000':'Heritage Square',\n",
    "        '199400':'Heritage Square','206010':'Chinatown','206020':'Chinatown','207102':'Chinatown','207103':'Chinatown',\n",
    "        '400602':'Azusa Downtown','400800':'APU/Citrus','404600':'Irwindale','430002':'Duarte/City of Hope',\n",
    "        '430101':'Duarte/City of Hope','430721':'Arcadia','430801':'Arcadia','430901':'Monrovia','431100':'Monrovia',\n",
    "        '461901':'Memorial Park','461902':'Monrovia','462201':'Lake Avenue','462302':'Allen','462700':'Allen','462800':'Allen',\n",
    "        '462900':'Sierra Madre Villa','463000':'Sierra Madre Villa','463602':'Del Mar','464000':'Fillmore','480600':'South Pasadena','480703':'South Pasadena'}\n",
    "df_extracts['station'] = df_extracts['station'].replace(fips)\n",
    "df_extracts.set_index('GEOID11')"
   ]
  },
  {
   "cell_type": "code",
   "execution_count": null,
   "metadata": {},
   "outputs": [],
   "source": [
    "#clean med_hhinc column in df_extracts\n",
    "df_extracts['med_hhinc'] = df_extracts['med_hhinc'].replace({'250,000+':'250000','-':'0'})\n",
    "df_extracts['med_hhinc'] = df_extracts['med_hhinc'].astype(float)"
   ]
  },
  {
   "cell_type": "code",
   "execution_count": null,
   "metadata": {},
   "outputs": [],
   "source": [
    "# Create a box plot of median household income in the census tracts by the Metro Gold Line station they are closest to\n",
    "\n",
    "sns.set_style('whitegrid')\n",
    "sns.set_context('paper')\n",
    "\n",
    "sns.set()\n",
    "ax = sns.boxplot(x=df_extracts['med_hhinc'], y=df_extracts['station'], fliersize=1, boxprops={'alpha':0.7})\n",
    "ax.set_xlim(left=0)\n",
    "ax.set_title('Box plot of median household income around Metro Gold Line stations')\n",
    "ax.set_xlabel('Median household income')\n",
    "ax.set_ylabel('Stations')"
   ]
  },
  {
   "cell_type": "markdown",
   "metadata": {},
   "source": [
    "This box plot measures median household income by closest Metro Gold Line station. While this is only a subsample of all current Metro Gold Line stations, it begins to show the differences in median household income between these census tracts. For example, the median household income in the census tracts near the Sierra Madre Villa station in Pasadena is about twice that of the median household income in the census tracts near the Highland Park station. It will be interesting to compare this data to previous years' data to see how this variable has changed over time.  "
   ]
  },
  {
   "cell_type": "markdown",
   "metadata": {},
   "source": [
    "Ryan - Created 5 visualizations (income and home value histograms in final deliverable), created partial list of station-adjacent tracts; \n",
    "Cason - Created two race/ethnicity histograms, created pairplot scatter graph to detect variable relationships, coordinated questions/meeting with Geoff/Kurt;\n",
    "Serena - Created a health insurance coverage histogram; Discussed with teammates;\n",
    "Vesna - Created two histograms and a pair plot; compiled final code from team members, wrote descriptions, and submitted final deliverable; \n",
    "Minghang: Provided basic tract-level data; Made the bar chart; Discussed with teammates.;\n",
    "Fiona - Created 4 visualizations independently including scatter plot, regplot, boxplot, among which the boxplot that shows the median household income around different stations; throughout the Gold Line is included in the final deliverable, discussed with teammates during the group meeting\n"
   ]
  }
 ],
 "metadata": {
  "kernelspec": {
   "display_name": "Python 3",
   "language": "python",
   "name": "python3"
  },
  "language_info": {
   "codemirror_mode": {
    "name": "ipython",
    "version": 3
   },
   "file_extension": ".py",
   "mimetype": "text/x-python",
   "name": "python",
   "nbconvert_exporter": "python",
   "pygments_lexer": "ipython3",
   "version": "3.8.1"
  }
 },
 "nbformat": 4,
 "nbformat_minor": 4
}
