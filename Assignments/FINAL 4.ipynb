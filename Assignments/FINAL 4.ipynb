{
 "cells": [
  {
   "cell_type": "code",
   "execution_count": 1,
   "metadata": {},
   "outputs": [],
   "source": [
    "# import pandas as pd\n",
    "import pandas as pd\n",
    "import geopandas as gpd\n",
    "from shapely.geometry import Point\n",
    "import matplotlib.pyplot as plt\n",
    "%matplotlib inline"
   ]
  },
  {
   "cell_type": "code",
   "execution_count": 2,
   "metadata": {},
   "outputs": [
    {
     "data": {
      "text/plain": [
       "(8057, 13)"
      ]
     },
     "execution_count": 2,
     "metadata": {},
     "output_type": "execute_result"
    }
   ],
   "source": [
    "# load census shape files\n",
    "gdf_census = gpd.read_file('534group2/shapefiles/tl_2017_06_tract/')\n",
    "gdf_census.shape"
   ]
  },
  {
   "cell_type": "code",
   "execution_count": 3,
   "metadata": {},
   "outputs": [
    {
     "data": {
      "text/html": [
       "<div>\n",
       "<style scoped>\n",
       "    .dataframe tbody tr th:only-of-type {\n",
       "        vertical-align: middle;\n",
       "    }\n",
       "\n",
       "    .dataframe tbody tr th {\n",
       "        vertical-align: top;\n",
       "    }\n",
       "\n",
       "    .dataframe thead th {\n",
       "        text-align: right;\n",
       "    }\n",
       "</style>\n",
       "<table border=\"1\" class=\"dataframe\">\n",
       "  <thead>\n",
       "    <tr style=\"text-align: right;\">\n",
       "      <th></th>\n",
       "      <th>STATEFP</th>\n",
       "      <th>COUNTYFP</th>\n",
       "      <th>TRACTCE</th>\n",
       "      <th>GEOID</th>\n",
       "      <th>NAME</th>\n",
       "      <th>NAMELSAD</th>\n",
       "      <th>MTFCC</th>\n",
       "      <th>FUNCSTAT</th>\n",
       "      <th>ALAND</th>\n",
       "      <th>AWATER</th>\n",
       "      <th>INTPTLAT</th>\n",
       "      <th>INTPTLON</th>\n",
       "      <th>geometry</th>\n",
       "    </tr>\n",
       "  </thead>\n",
       "  <tbody>\n",
       "    <tr>\n",
       "      <th>0</th>\n",
       "      <td>06</td>\n",
       "      <td>001</td>\n",
       "      <td>442700</td>\n",
       "      <td>06001442700</td>\n",
       "      <td>4427</td>\n",
       "      <td>Census Tract 4427</td>\n",
       "      <td>G5020</td>\n",
       "      <td>S</td>\n",
       "      <td>1234034</td>\n",
       "      <td>0</td>\n",
       "      <td>+37.5371514</td>\n",
       "      <td>-122.0081094</td>\n",
       "      <td>POLYGON ((-122.01721 37.53932, -122.01719 37.5...</td>\n",
       "    </tr>\n",
       "    <tr>\n",
       "      <th>1</th>\n",
       "      <td>06</td>\n",
       "      <td>001</td>\n",
       "      <td>442800</td>\n",
       "      <td>06001442800</td>\n",
       "      <td>4428</td>\n",
       "      <td>Census Tract 4428</td>\n",
       "      <td>G5020</td>\n",
       "      <td>S</td>\n",
       "      <td>1278647</td>\n",
       "      <td>0</td>\n",
       "      <td>+37.5293619</td>\n",
       "      <td>-121.9931002</td>\n",
       "      <td>POLYGON ((-122.00230 37.52984, -122.00224 37.5...</td>\n",
       "    </tr>\n",
       "    <tr>\n",
       "      <th>2</th>\n",
       "      <td>06</td>\n",
       "      <td>037</td>\n",
       "      <td>204920</td>\n",
       "      <td>06037204920</td>\n",
       "      <td>2049.20</td>\n",
       "      <td>Census Tract 2049.20</td>\n",
       "      <td>G5020</td>\n",
       "      <td>S</td>\n",
       "      <td>909972</td>\n",
       "      <td>0</td>\n",
       "      <td>+34.0175004</td>\n",
       "      <td>-118.1974975</td>\n",
       "      <td>POLYGON ((-118.20284 34.01966, -118.20283 34.0...</td>\n",
       "    </tr>\n",
       "    <tr>\n",
       "      <th>3</th>\n",
       "      <td>06</td>\n",
       "      <td>037</td>\n",
       "      <td>205110</td>\n",
       "      <td>06037205110</td>\n",
       "      <td>2051.10</td>\n",
       "      <td>Census Tract 2051.10</td>\n",
       "      <td>G5020</td>\n",
       "      <td>S</td>\n",
       "      <td>286962</td>\n",
       "      <td>0</td>\n",
       "      <td>+34.0245059</td>\n",
       "      <td>-118.2142985</td>\n",
       "      <td>POLYGON ((-118.21963 34.02629, -118.21945 34.0...</td>\n",
       "    </tr>\n",
       "    <tr>\n",
       "      <th>4</th>\n",
       "      <td>06</td>\n",
       "      <td>037</td>\n",
       "      <td>205120</td>\n",
       "      <td>06037205120</td>\n",
       "      <td>2051.20</td>\n",
       "      <td>Census Tract 2051.20</td>\n",
       "      <td>G5020</td>\n",
       "      <td>S</td>\n",
       "      <td>1466129</td>\n",
       "      <td>0</td>\n",
       "      <td>+34.0187546</td>\n",
       "      <td>-118.2117956</td>\n",
       "      <td>POLYGON ((-118.22023 34.02056, -118.22018 34.0...</td>\n",
       "    </tr>\n",
       "  </tbody>\n",
       "</table>\n",
       "</div>"
      ],
      "text/plain": [
       "  STATEFP COUNTYFP TRACTCE        GEOID     NAME              NAMELSAD  MTFCC  \\\n",
       "0      06      001  442700  06001442700     4427     Census Tract 4427  G5020   \n",
       "1      06      001  442800  06001442800     4428     Census Tract 4428  G5020   \n",
       "2      06      037  204920  06037204920  2049.20  Census Tract 2049.20  G5020   \n",
       "3      06      037  205110  06037205110  2051.10  Census Tract 2051.10  G5020   \n",
       "4      06      037  205120  06037205120  2051.20  Census Tract 2051.20  G5020   \n",
       "\n",
       "  FUNCSTAT    ALAND  AWATER     INTPTLAT      INTPTLON  \\\n",
       "0        S  1234034       0  +37.5371514  -122.0081094   \n",
       "1        S  1278647       0  +37.5293619  -121.9931002   \n",
       "2        S   909972       0  +34.0175004  -118.1974975   \n",
       "3        S   286962       0  +34.0245059  -118.2142985   \n",
       "4        S  1466129       0  +34.0187546  -118.2117956   \n",
       "\n",
       "                                            geometry  \n",
       "0  POLYGON ((-122.01721 37.53932, -122.01719 37.5...  \n",
       "1  POLYGON ((-122.00230 37.52984, -122.00224 37.5...  \n",
       "2  POLYGON ((-118.20284 34.01966, -118.20283 34.0...  \n",
       "3  POLYGON ((-118.21963 34.02629, -118.21945 34.0...  \n",
       "4  POLYGON ((-118.22023 34.02056, -118.22018 34.0...  "
      ]
     },
     "execution_count": 3,
     "metadata": {},
     "output_type": "execute_result"
    }
   ],
   "source": [
    "# view census shape file head\n",
    "gdf_census.head()"
   ]
  },
  {
   "cell_type": "code",
   "execution_count": 4,
   "metadata": {},
   "outputs": [
    {
     "data": {
      "text/plain": [
       "(27, 14)"
      ]
     },
     "execution_count": 4,
     "metadata": {},
     "output_type": "execute_result"
    }
   ],
   "source": [
    "# load station shape file\n",
    "gdf_stations = gpd.read_file('534group2/shapefiles/804_Gold_Stations_0316/')\n",
    "gdf_stations.shape"
   ]
  },
  {
   "cell_type": "code",
   "execution_count": 5,
   "metadata": {},
   "outputs": [
    {
     "data": {
      "text/html": [
       "<div>\n",
       "<style scoped>\n",
       "    .dataframe tbody tr th:only-of-type {\n",
       "        vertical-align: middle;\n",
       "    }\n",
       "\n",
       "    .dataframe tbody tr th {\n",
       "        vertical-align: top;\n",
       "    }\n",
       "\n",
       "    .dataframe thead th {\n",
       "        text-align: right;\n",
       "    }\n",
       "</style>\n",
       "<table border=\"1\" class=\"dataframe\">\n",
       "  <thead>\n",
       "    <tr style=\"text-align: right;\">\n",
       "      <th></th>\n",
       "      <th>LINE</th>\n",
       "      <th>LINENUM</th>\n",
       "      <th>LINENUM2</th>\n",
       "      <th>STNSEQ</th>\n",
       "      <th>STNSEQ2</th>\n",
       "      <th>DIR</th>\n",
       "      <th>STOPNUM</th>\n",
       "      <th>STATION</th>\n",
       "      <th>LAT</th>\n",
       "      <th>LONG</th>\n",
       "      <th>TPIS_NAME</th>\n",
       "      <th>POINT_X</th>\n",
       "      <th>POINT_Y</th>\n",
       "      <th>geometry</th>\n",
       "    </tr>\n",
       "  </thead>\n",
       "  <tbody>\n",
       "    <tr>\n",
       "      <th>0</th>\n",
       "      <td>Gold</td>\n",
       "      <td>804</td>\n",
       "      <td>0</td>\n",
       "      <td>27</td>\n",
       "      <td>0</td>\n",
       "      <td>None</td>\n",
       "      <td>80401</td>\n",
       "      <td>Atlantic Station</td>\n",
       "      <td>34.033398</td>\n",
       "      <td>-118.154469</td>\n",
       "      <td>East LA</td>\n",
       "      <td>6.514866e+06</td>\n",
       "      <td>1.834572e+06</td>\n",
       "      <td>POINT (-118.15447 34.03340)</td>\n",
       "    </tr>\n",
       "    <tr>\n",
       "      <th>1</th>\n",
       "      <td>Gold</td>\n",
       "      <td>804</td>\n",
       "      <td>0</td>\n",
       "      <td>26</td>\n",
       "      <td>0</td>\n",
       "      <td>None</td>\n",
       "      <td>80402</td>\n",
       "      <td>East LA Civic Center Station</td>\n",
       "      <td>34.033364</td>\n",
       "      <td>-118.161206</td>\n",
       "      <td>ELACC</td>\n",
       "      <td>6.512824e+06</td>\n",
       "      <td>1.834563e+06</td>\n",
       "      <td>POINT (-118.16121 34.03336)</td>\n",
       "    </tr>\n",
       "    <tr>\n",
       "      <th>2</th>\n",
       "      <td>Gold</td>\n",
       "      <td>804</td>\n",
       "      <td>0</td>\n",
       "      <td>25</td>\n",
       "      <td>0</td>\n",
       "      <td>None</td>\n",
       "      <td>80403</td>\n",
       "      <td>Maravilla Station</td>\n",
       "      <td>34.033319</td>\n",
       "      <td>-118.168140</td>\n",
       "      <td>Mravilla</td>\n",
       "      <td>6.510724e+06</td>\n",
       "      <td>1.834550e+06</td>\n",
       "      <td>POINT (-118.16814 34.03332)</td>\n",
       "    </tr>\n",
       "    <tr>\n",
       "      <th>3</th>\n",
       "      <td>Gold</td>\n",
       "      <td>804</td>\n",
       "      <td>0</td>\n",
       "      <td>24</td>\n",
       "      <td>0</td>\n",
       "      <td>None</td>\n",
       "      <td>80404</td>\n",
       "      <td>Indiana Station</td>\n",
       "      <td>34.034300</td>\n",
       "      <td>-118.192182</td>\n",
       "      <td>Indiana</td>\n",
       "      <td>6.503440e+06</td>\n",
       "      <td>1.834920e+06</td>\n",
       "      <td>POINT (-118.19218 34.03430)</td>\n",
       "    </tr>\n",
       "    <tr>\n",
       "      <th>4</th>\n",
       "      <td>Gold</td>\n",
       "      <td>804</td>\n",
       "      <td>0</td>\n",
       "      <td>23</td>\n",
       "      <td>0</td>\n",
       "      <td>None</td>\n",
       "      <td>80405</td>\n",
       "      <td>Soto Station</td>\n",
       "      <td>34.043747</td>\n",
       "      <td>-118.210061</td>\n",
       "      <td>Soto</td>\n",
       "      <td>6.498030e+06</td>\n",
       "      <td>1.838369e+06</td>\n",
       "      <td>POINT (-118.21006 34.04375)</td>\n",
       "    </tr>\n",
       "  </tbody>\n",
       "</table>\n",
       "</div>"
      ],
      "text/plain": [
       "   LINE  LINENUM  LINENUM2  STNSEQ  STNSEQ2   DIR  STOPNUM  \\\n",
       "0  Gold      804         0      27        0  None    80401   \n",
       "1  Gold      804         0      26        0  None    80402   \n",
       "2  Gold      804         0      25        0  None    80403   \n",
       "3  Gold      804         0      24        0  None    80404   \n",
       "4  Gold      804         0      23        0  None    80405   \n",
       "\n",
       "                        STATION        LAT        LONG TPIS_NAME  \\\n",
       "0              Atlantic Station  34.033398 -118.154469   East LA   \n",
       "1  East LA Civic Center Station  34.033364 -118.161206     ELACC   \n",
       "2             Maravilla Station  34.033319 -118.168140  Mravilla   \n",
       "3               Indiana Station  34.034300 -118.192182   Indiana   \n",
       "4                  Soto Station  34.043747 -118.210061      Soto   \n",
       "\n",
       "        POINT_X       POINT_Y                     geometry  \n",
       "0  6.514866e+06  1.834572e+06  POINT (-118.15447 34.03340)  \n",
       "1  6.512824e+06  1.834563e+06  POINT (-118.16121 34.03336)  \n",
       "2  6.510724e+06  1.834550e+06  POINT (-118.16814 34.03332)  \n",
       "3  6.503440e+06  1.834920e+06  POINT (-118.19218 34.03430)  \n",
       "4  6.498030e+06  1.838369e+06  POINT (-118.21006 34.04375)  "
      ]
     },
     "execution_count": 5,
     "metadata": {},
     "output_type": "execute_result"
    }
   ],
   "source": [
    "# view census shape file head\n",
    "gdf_stations.head()"
   ]
  },
  {
   "cell_type": "code",
   "execution_count": 6,
   "metadata": {},
   "outputs": [
    {
     "data": {
      "text/plain": [
       "(13, 14)"
      ]
     },
     "execution_count": 6,
     "metadata": {},
     "output_type": "execute_result"
    }
   ],
   "source": [
    "# isolate gold like stations in our study area\n",
    "gdf_phase1 = ['80409', '80410', '80411', '80412', '80413', '80414', '80415', '80416', '80417', '80418', '80419', '80420', '80421']\n",
    "mask1 = gdf_stations['STOPNUM'].isin(gdf_phase1)\n",
    "df_stations1 = gdf_stations[mask1]\n",
    "df_stations1.shape"
   ]
  },
  {
   "cell_type": "code",
   "execution_count": 7,
   "metadata": {},
   "outputs": [
    {
     "data": {
      "text/plain": [
       "(2346, 17)"
      ]
     },
     "execution_count": 7,
     "metadata": {},
     "output_type": "execute_result"
    }
   ],
   "source": [
    "# load 2018 ACS data\n",
    "df_2018 = pd.read_csv('534group2/ACS data/tractdata.csv', dtype={'GEOID11':str})\n",
    "df_2018.shape"
   ]
  },
  {
   "cell_type": "code",
   "execution_count": 8,
   "metadata": {},
   "outputs": [
    {
     "data": {
      "text/html": [
       "<div>\n",
       "<style scoped>\n",
       "    .dataframe tbody tr th:only-of-type {\n",
       "        vertical-align: middle;\n",
       "    }\n",
       "\n",
       "    .dataframe tbody tr th {\n",
       "        vertical-align: top;\n",
       "    }\n",
       "\n",
       "    .dataframe thead th {\n",
       "        text-align: right;\n",
       "    }\n",
       "</style>\n",
       "<table border=\"1\" class=\"dataframe\">\n",
       "  <thead>\n",
       "    <tr style=\"text-align: right;\">\n",
       "      <th></th>\n",
       "      <th>GEOID</th>\n",
       "      <th>GEOID11</th>\n",
       "      <th>16+_emp_rate</th>\n",
       "      <th>16+_uemp_rate</th>\n",
       "      <th>uemp_rate</th>\n",
       "      <th>med_hhinc</th>\n",
       "      <th>pop</th>\n",
       "      <th>pct_white</th>\n",
       "      <th>pct_black</th>\n",
       "      <th>pct_asian</th>\n",
       "      <th>pct_other</th>\n",
       "      <th>tol_hu</th>\n",
       "      <th>med_value</th>\n",
       "      <th>pct_noins</th>\n",
       "      <th>pct_poverty</th>\n",
       "      <th>city</th>\n",
       "      <th>metro</th>\n",
       "    </tr>\n",
       "  </thead>\n",
       "  <tbody>\n",
       "    <tr>\n",
       "      <th>0</th>\n",
       "      <td>1400000US06037101110</td>\n",
       "      <td>06037101110</td>\n",
       "      <td>55.7</td>\n",
       "      <td>4.7</td>\n",
       "      <td>7.7</td>\n",
       "      <td>53077</td>\n",
       "      <td>4314</td>\n",
       "      <td>76.8</td>\n",
       "      <td>1.1</td>\n",
       "      <td>7.6</td>\n",
       "      <td>14.5</td>\n",
       "      <td>150</td>\n",
       "      <td>458.7</td>\n",
       "      <td>13.2</td>\n",
       "      <td>16.1</td>\n",
       "      <td>NaN</td>\n",
       "      <td>NaN</td>\n",
       "    </tr>\n",
       "    <tr>\n",
       "      <th>1</th>\n",
       "      <td>1400000US06037101122</td>\n",
       "      <td>06037101122</td>\n",
       "      <td>69.1</td>\n",
       "      <td>3.3</td>\n",
       "      <td>4.6</td>\n",
       "      <td>88953</td>\n",
       "      <td>3239</td>\n",
       "      <td>87.6</td>\n",
       "      <td>1.9</td>\n",
       "      <td>6.4</td>\n",
       "      <td>4.2</td>\n",
       "      <td>100</td>\n",
       "      <td>608.4</td>\n",
       "      <td>6.8</td>\n",
       "      <td>3.4</td>\n",
       "      <td>NaN</td>\n",
       "      <td>NaN</td>\n",
       "    </tr>\n",
       "    <tr>\n",
       "      <th>2</th>\n",
       "      <td>1400000US06037101210</td>\n",
       "      <td>06037101210</td>\n",
       "      <td>58.8</td>\n",
       "      <td>6.6</td>\n",
       "      <td>10.1</td>\n",
       "      <td>32119</td>\n",
       "      <td>6052</td>\n",
       "      <td>78.8</td>\n",
       "      <td>2.8</td>\n",
       "      <td>4.3</td>\n",
       "      <td>14.0</td>\n",
       "      <td>100</td>\n",
       "      <td>374.3</td>\n",
       "      <td>10.6</td>\n",
       "      <td>33</td>\n",
       "      <td>NaN</td>\n",
       "      <td>NaN</td>\n",
       "    </tr>\n",
       "    <tr>\n",
       "      <th>3</th>\n",
       "      <td>1400000US06037101220</td>\n",
       "      <td>06037101220</td>\n",
       "      <td>54.6</td>\n",
       "      <td>4.6</td>\n",
       "      <td>7.8</td>\n",
       "      <td>41728</td>\n",
       "      <td>3497</td>\n",
       "      <td>71.3</td>\n",
       "      <td>2.0</td>\n",
       "      <td>8.6</td>\n",
       "      <td>18.0</td>\n",
       "      <td>100</td>\n",
       "      <td>414.8</td>\n",
       "      <td>10.4</td>\n",
       "      <td>15</td>\n",
       "      <td>NaN</td>\n",
       "      <td>NaN</td>\n",
       "    </tr>\n",
       "    <tr>\n",
       "      <th>4</th>\n",
       "      <td>1400000US06037101300</td>\n",
       "      <td>06037101300</td>\n",
       "      <td>53.8</td>\n",
       "      <td>3.2</td>\n",
       "      <td>5.7</td>\n",
       "      <td>86914</td>\n",
       "      <td>4297</td>\n",
       "      <td>86.2</td>\n",
       "      <td>3.7</td>\n",
       "      <td>6.7</td>\n",
       "      <td>3.3</td>\n",
       "      <td>150</td>\n",
       "      <td>586.0</td>\n",
       "      <td>7.4</td>\n",
       "      <td>9.2</td>\n",
       "      <td>NaN</td>\n",
       "      <td>NaN</td>\n",
       "    </tr>\n",
       "  </tbody>\n",
       "</table>\n",
       "</div>"
      ],
      "text/plain": [
       "                  GEOID      GEOID11 16+_emp_rate 16+_uemp_rate uemp_rate  \\\n",
       "0  1400000US06037101110  06037101110         55.7           4.7       7.7   \n",
       "1  1400000US06037101122  06037101122         69.1           3.3       4.6   \n",
       "2  1400000US06037101210  06037101210         58.8           6.6      10.1   \n",
       "3  1400000US06037101220  06037101220         54.6           4.6       7.8   \n",
       "4  1400000US06037101300  06037101300         53.8           3.2       5.7   \n",
       "\n",
       "  med_hhinc   pop pct_white pct_black pct_asian pct_other  tol_hu  med_value  \\\n",
       "0     53077  4314     76.8       1.1       7.6      14.5      150      458.7   \n",
       "1     88953  3239     87.6       1.9       6.4       4.2      100      608.4   \n",
       "2     32119  6052     78.8       2.8       4.3      14.0      100      374.3   \n",
       "3     41728  3497     71.3       2.0       8.6      18.0      100      414.8   \n",
       "4     86914  4297     86.2       3.7       6.7       3.3      150      586.0   \n",
       "\n",
       "  pct_noins pct_poverty city  metro  \n",
       "0      13.2        16.1  NaN    NaN  \n",
       "1       6.8         3.4  NaN    NaN  \n",
       "2      10.6          33  NaN    NaN  \n",
       "3      10.4          15  NaN    NaN  \n",
       "4       7.4         9.2  NaN    NaN  "
      ]
     },
     "execution_count": 8,
     "metadata": {},
     "output_type": "execute_result"
    }
   ],
   "source": [
    "# view 2018 ACS data head\n",
    "df_2018.head()"
   ]
  },
  {
   "cell_type": "code",
   "execution_count": 9,
   "metadata": {},
   "outputs": [
    {
     "data": {
      "text/plain": [
       "(2346, 15)"
      ]
     },
     "execution_count": 9,
     "metadata": {},
     "output_type": "execute_result"
    }
   ],
   "source": [
    "# load 2010 ACS data\n",
    "df_2010 = pd.read_csv('534group2/ACS data/2010_tractdata.csv', dtype={'GEOID11':str})\n",
    "df_2010.shape"
   ]
  },
  {
   "cell_type": "code",
   "execution_count": 10,
   "metadata": {},
   "outputs": [],
   "source": [
    "# add leading 0 to 'GEOID11'\n",
    "df_2010['GEOID11']=df_2010['GEOID11'].apply(lambda x: '{0:0>11}'.format(x))"
   ]
  },
  {
   "cell_type": "code",
   "execution_count": 11,
   "metadata": {},
   "outputs": [
    {
     "data": {
      "text/html": [
       "<div>\n",
       "<style scoped>\n",
       "    .dataframe tbody tr th:only-of-type {\n",
       "        vertical-align: middle;\n",
       "    }\n",
       "\n",
       "    .dataframe tbody tr th {\n",
       "        vertical-align: top;\n",
       "    }\n",
       "\n",
       "    .dataframe thead th {\n",
       "        text-align: right;\n",
       "    }\n",
       "</style>\n",
       "<table border=\"1\" class=\"dataframe\">\n",
       "  <thead>\n",
       "    <tr style=\"text-align: right;\">\n",
       "      <th></th>\n",
       "      <th>GEOID</th>\n",
       "      <th>GEOID11</th>\n",
       "      <th>16+_emp_rate</th>\n",
       "      <th>16+_uemp_rate</th>\n",
       "      <th>uemp_rate</th>\n",
       "      <th>med_hhinc</th>\n",
       "      <th>pop</th>\n",
       "      <th>pct_white</th>\n",
       "      <th>pct_black</th>\n",
       "      <th>pct_asian</th>\n",
       "      <th>pct_other</th>\n",
       "      <th>tol_hu</th>\n",
       "      <th>med_hvalue</th>\n",
       "      <th>pct_noins</th>\n",
       "      <th>pct_poverty</th>\n",
       "    </tr>\n",
       "  </thead>\n",
       "  <tbody>\n",
       "    <tr>\n",
       "      <th>0</th>\n",
       "      <td>1400000US06037101110</td>\n",
       "      <td>06037101110</td>\n",
       "      <td>63.5</td>\n",
       "      <td>4.4</td>\n",
       "      <td>6.5</td>\n",
       "      <td>51,641</td>\n",
       "      <td>4,731</td>\n",
       "      <td>68.9</td>\n",
       "      <td>1.7</td>\n",
       "      <td>10.4</td>\n",
       "      <td>19.0</td>\n",
       "      <td>1,734</td>\n",
       "      <td>430800</td>\n",
       "      <td>NaN</td>\n",
       "      <td>13.7</td>\n",
       "    </tr>\n",
       "    <tr>\n",
       "      <th>1</th>\n",
       "      <td>1400000US06037101122</td>\n",
       "      <td>06037101122</td>\n",
       "      <td>63.5</td>\n",
       "      <td>3.4</td>\n",
       "      <td>5.0</td>\n",
       "      <td>80,489</td>\n",
       "      <td>3,664</td>\n",
       "      <td>76.7</td>\n",
       "      <td>0.8</td>\n",
       "      <td>13.6</td>\n",
       "      <td>8.9</td>\n",
       "      <td>1,369</td>\n",
       "      <td>530100</td>\n",
       "      <td>NaN</td>\n",
       "      <td>6.3</td>\n",
       "    </tr>\n",
       "    <tr>\n",
       "      <th>2</th>\n",
       "      <td>1400000US06037101210</td>\n",
       "      <td>06037101210</td>\n",
       "      <td>61.8</td>\n",
       "      <td>5.7</td>\n",
       "      <td>8.5</td>\n",
       "      <td>39,433</td>\n",
       "      <td>5,990</td>\n",
       "      <td>66.8</td>\n",
       "      <td>3.6</td>\n",
       "      <td>7.7</td>\n",
       "      <td>21.9</td>\n",
       "      <td>2,317</td>\n",
       "      <td>320700</td>\n",
       "      <td>NaN</td>\n",
       "      <td>26.4</td>\n",
       "    </tr>\n",
       "    <tr>\n",
       "      <th>3</th>\n",
       "      <td>1400000US06037101220</td>\n",
       "      <td>06037101220</td>\n",
       "      <td>61.6</td>\n",
       "      <td>5.8</td>\n",
       "      <td>8.6</td>\n",
       "      <td>45,687</td>\n",
       "      <td>3,363</td>\n",
       "      <td>67.0</td>\n",
       "      <td>1.3</td>\n",
       "      <td>8.2</td>\n",
       "      <td>23.5</td>\n",
       "      <td>1,317</td>\n",
       "      <td>423900</td>\n",
       "      <td>NaN</td>\n",
       "      <td>14.0</td>\n",
       "    </tr>\n",
       "    <tr>\n",
       "      <th>4</th>\n",
       "      <td>1400000US06037101300</td>\n",
       "      <td>06037101300</td>\n",
       "      <td>57.9</td>\n",
       "      <td>4.7</td>\n",
       "      <td>7.5</td>\n",
       "      <td>60,612</td>\n",
       "      <td>4,199</td>\n",
       "      <td>84.6</td>\n",
       "      <td>1.1</td>\n",
       "      <td>7.7</td>\n",
       "      <td>6.6</td>\n",
       "      <td>1,582</td>\n",
       "      <td>536000</td>\n",
       "      <td>NaN</td>\n",
       "      <td>5.1</td>\n",
       "    </tr>\n",
       "  </tbody>\n",
       "</table>\n",
       "</div>"
      ],
      "text/plain": [
       "                  GEOID      GEOID11  16+_emp_rate  16+_uemp_rate  uemp_rate  \\\n",
       "0  1400000US06037101110  06037101110          63.5            4.4        6.5   \n",
       "1  1400000US06037101122  06037101122          63.5            3.4        5.0   \n",
       "2  1400000US06037101210  06037101210          61.8            5.7        8.5   \n",
       "3  1400000US06037101220  06037101220          61.6            5.8        8.6   \n",
       "4  1400000US06037101300  06037101300          57.9            4.7        7.5   \n",
       "\n",
       "  med_hhinc     pop  pct_white  pct_black  pct_asian  pct_other  tol_hu  \\\n",
       "0   51,641   4,731        68.9        1.7       10.4       19.0  1,734    \n",
       "1   80,489   3,664        76.7        0.8       13.6        8.9  1,369    \n",
       "2   39,433   5,990        66.8        3.6        7.7       21.9  2,317    \n",
       "3   45,687   3,363        67.0        1.3        8.2       23.5  1,317    \n",
       "4   60,612   4,199        84.6        1.1        7.7        6.6  1,582    \n",
       "\n",
       "  med_hvalue  pct_noins  pct_poverty  \n",
       "0     430800        NaN         13.7  \n",
       "1     530100        NaN          6.3  \n",
       "2     320700        NaN         26.4  \n",
       "3     423900        NaN         14.0  \n",
       "4     536000        NaN          5.1  "
      ]
     },
     "execution_count": 11,
     "metadata": {},
     "output_type": "execute_result"
    }
   ],
   "source": [
    "# view 2010 ACS data head\n",
    "df_2010.head()"
   ]
  },
  {
   "cell_type": "code",
   "execution_count": 12,
   "metadata": {},
   "outputs": [
    {
     "data": {
      "text/plain": [
       "GEOID             object\n",
       "GEOID11           object\n",
       "16+_emp_rate      object\n",
       "16+_uemp_rate     object\n",
       "uemp_rate         object\n",
       "med_hhinc         object\n",
       "pop                int64\n",
       "pct_white         object\n",
       "pct_black         object\n",
       "pct_asian         object\n",
       "pct_other         object\n",
       "tol_hu             int64\n",
       "med_value        float64\n",
       "pct_noins         object\n",
       "pct_poverty       object\n",
       "city              object\n",
       "metro            float64\n",
       "dtype: object"
      ]
     },
     "execution_count": 12,
     "metadata": {},
     "output_type": "execute_result"
    }
   ],
   "source": [
    "# view 2018 ACS data types\n",
    "df_2018.dtypes"
   ]
  },
  {
   "cell_type": "code",
   "execution_count": 13,
   "metadata": {},
   "outputs": [
    {
     "data": {
      "text/plain": [
       "STATEFP       object\n",
       "COUNTYFP      object\n",
       "TRACTCE       object\n",
       "GEOID         object\n",
       "NAME          object\n",
       "NAMELSAD      object\n",
       "MTFCC         object\n",
       "FUNCSTAT      object\n",
       "ALAND          int64\n",
       "AWATER         int64\n",
       "INTPTLAT      object\n",
       "INTPTLON      object\n",
       "geometry    geometry\n",
       "dtype: object"
      ]
     },
     "execution_count": 13,
     "metadata": {},
     "output_type": "execute_result"
    }
   ],
   "source": [
    "#view census shape file types\n",
    "gdf_census.dtypes"
   ]
  },
  {
   "cell_type": "code",
   "execution_count": 14,
   "metadata": {},
   "outputs": [
    {
     "data": {
      "text/plain": [
       "GEOID             object\n",
       "GEOID11           object\n",
       "16+_emp_rate     float64\n",
       "16+_uemp_rate    float64\n",
       "uemp_rate        float64\n",
       "med_hhinc         object\n",
       "pop               object\n",
       "pct_white        float64\n",
       "pct_black        float64\n",
       "pct_asian        float64\n",
       "pct_other        float64\n",
       "tol_hu            object\n",
       "med_hvalue        object\n",
       "pct_noins        float64\n",
       "pct_poverty      float64\n",
       "dtype: object"
      ]
     },
     "execution_count": 14,
     "metadata": {},
     "output_type": "execute_result"
    }
   ],
   "source": [
    "#view 2010 ACs data types\n",
    "df_2010.dtypes"
   ]
  },
  {
   "cell_type": "code",
   "execution_count": 15,
   "metadata": {},
   "outputs": [
    {
     "data": {
      "text/plain": [
       "(29, 17)"
      ]
     },
     "execution_count": 15,
     "metadata": {},
     "output_type": "execute_result"
    }
   ],
   "source": [
    "# isolate gold line adjacent tracts for 2018 ACS data\n",
    "ex_tracts = ['06037206020', '06037206031', '06037207103', '06037206010', '06037207102', '06037206020', '06037199000', '06037199000', '06037185202', '06037185310', '06037199400', '06037185100', '06037183610', '06037183620', '06037183701', '06037183810', '06037183520', '06037480600', '06037480703', '06037464000', '06037463602', '06037463700', '06037461902', '06037462302', '06037462202', '06037462201', '06037462301', '06037462700', '06037463000', '06037463102', '06037462900']\n",
    "mask = df_2018['GEOID11'].isin(ex_tracts)\n",
    "df_extracts_2018 = df_2018[mask]\n",
    "df_extracts_2018.shape"
   ]
  },
  {
   "cell_type": "code",
   "execution_count": 16,
   "metadata": {},
   "outputs": [
    {
     "data": {
      "text/plain": [
       "(29, 15)"
      ]
     },
     "execution_count": 16,
     "metadata": {},
     "output_type": "execute_result"
    }
   ],
   "source": [
    "# isolate gold line adjacent tracts for 2010 ACS data\n",
    "ex_tracts = ['06037206020', '06037206031', '06037207103', '06037206010', '06037207102', '06037206020', '06037199000', '06037199000', '06037185202', '06037185310', '06037199400', '06037185100', '06037183610', '06037183620', '06037183701', '06037183810', '06037183520', '06037480600', '06037480703', '06037464000', '06037463602', '06037463700', '06037461902', '06037462302', '06037462202', '06037462201', '06037462301', '06037462700', '06037463000', '06037463102', '06037462900']\n",
    "mask2 = df_2010['GEOID11'].isin(ex_tracts)\n",
    "df_extracts_2010 = df_2010[mask2]\n",
    "df_extracts_2010.shape"
   ]
  },
  {
   "cell_type": "code",
   "execution_count": 17,
   "metadata": {},
   "outputs": [
    {
     "data": {
      "text/plain": [
       "(29, 13)"
      ]
     },
     "execution_count": 17,
     "metadata": {},
     "output_type": "execute_result"
    }
   ],
   "source": [
    "# isolate gold line adjacent tracts for shape file census data\n",
    "gdf_tracts = ['06037206020', '06037206031', '06037207103', '06037206010', '06037207102', '06037206020', '06037199000', '06037199000', '06037185202', '06037185310', '06037199400', '06037185100', '06037183610', '06037183620', '06037183701', '06037183810', '06037183520', '06037480600', '06037480703', '06037464000', '06037463602', '06037463700', '06037461902', '06037462302', '06037462202', '06037462201', '06037462301', '06037462700', '06037463000', '06037463102', '06037462900']\n",
    "mask3 = gdf_census['GEOID'].isin(gdf_tracts)\n",
    "gdf_extracts = gdf_census[mask3]\n",
    "gdf_extracts.shape"
   ]
  },
  {
   "cell_type": "code",
   "execution_count": 18,
   "metadata": {},
   "outputs": [
    {
     "data": {
      "text/plain": [
       "(29, 30)"
      ]
     },
     "execution_count": 18,
     "metadata": {},
     "output_type": "execute_result"
    }
   ],
   "source": [
    "# merge the 2 datasets on a shared column: tract fips code for 2018\n",
    "gdf_tracts_2018 = pd.merge(left=gdf_extracts, right=df_extracts_2018, how='left', left_on='GEOID', right_on='GEOID11')\n",
    "gdf_tracts_2018.shape"
   ]
  },
  {
   "cell_type": "code",
   "execution_count": 19,
   "metadata": {},
   "outputs": [
    {
     "data": {
      "text/plain": [
       "(29, 28)"
      ]
     },
     "execution_count": 19,
     "metadata": {},
     "output_type": "execute_result"
    }
   ],
   "source": [
    "# merge the 2 datasets on a shared column: tract fips code for 2010\n",
    "gdf_tracts_2010 = pd.merge(left=gdf_extracts, right=df_extracts_2010, how='left', left_on='GEOID', right_on='GEOID11')\n",
    "gdf_tracts_2010.shape"
   ]
  },
  {
   "cell_type": "code",
   "execution_count": 20,
   "metadata": {},
   "outputs": [
    {
     "data": {
      "text/plain": [
       "{'init': 'epsg:4269'}"
      ]
     },
     "execution_count": 20,
     "metadata": {},
     "output_type": "execute_result"
    }
   ],
   "source": [
    "# view 2010 crs\n",
    "gdf_tracts_2010.crs"
   ]
  },
  {
   "cell_type": "code",
   "execution_count": 21,
   "metadata": {},
   "outputs": [
    {
     "data": {
      "text/plain": [
       "{'init': 'epsg:4269'}"
      ]
     },
     "execution_count": 21,
     "metadata": {},
     "output_type": "execute_result"
    }
   ],
   "source": [
    "#view 2018 crs\n",
    "gdf_tracts_2018.crs"
   ]
  },
  {
   "cell_type": "code",
   "execution_count": 22,
   "metadata": {},
   "outputs": [
    {
     "data": {
      "text/plain": [
       "0    494.2\n",
       "1      NaN\n",
       "2    766.2\n",
       "3    613.8\n",
       "4    712.8\n",
       "Name: med_value, dtype: float64"
      ]
     },
     "execution_count": 22,
     "metadata": {},
     "output_type": "execute_result"
    }
   ],
   "source": [
    "gdf_tracts_2018['med_value'].head()"
   ]
  },
  {
   "cell_type": "code",
   "execution_count": 23,
   "metadata": {},
   "outputs": [
    {
     "data": {
      "text/plain": [
       "[]"
      ]
     },
     "execution_count": 23,
     "metadata": {},
     "output_type": "execute_result"
    },
    {
     "data": {
      "image/png": "[encoded data removed]",
      "text/plain": [
       "<Figure size 576x720 with 1 Axes>"
      ]
     },
     "metadata": {
      "needs_background": "light"
     },
     "output_type": "display_data"
    },
    {
     "data": {
      "image/png": "[encoded data removed]",
      "text/plain": [
       "<Figure size 576x720 with 1 Axes>"
      ]
     },
     "metadata": {
      "needs_background": "light"
     },
     "output_type": "display_data"
    }
   ],
   "source": [
    "# plot map of percentage of white residents within gold line adjacent tracts for 2018 and 2010 with overlaid rail stops\n",
    "ax = gdf_tracts_2018.plot(column='pct_white',\n",
    "                        cmap='Greens', lw=0.2,\n",
    "                      figsize=(8,10), legend=True, legend_kwds={'loc': 'lower right'}, scheme='Quantiles')\n",
    "ax = df_stations1.plot(ax=ax, c='r', markersize=10)\n",
    "ax.axis('off')\n",
    "ax.set_title('Gold Line Adjacent Census Tracts-Percent White (2018)')\n",
    "ax.plot()\n",
    "\n",
    "ax1 = gdf_tracts_2010.plot(column='pct_white',\n",
    "                        cmap='Greens', lw=0.2,\n",
    "                        figsize=(8,10), legend=True, legend_kwds={'loc': 'lower right'}, \n",
    "                        scheme='quantiles')\n",
    "\n",
    "ax1 = df_stations1.plot(ax=ax1, c='r', markersize=10)\n",
    "ax1.axis('off')\n",
    "ax1.set_title('Gold Line Adjacent Census Tracts-Percent White (2010)')\n",
    "ax1.plot()"
   ]
  },
  {
   "cell_type": "code",
   "execution_count": 24,
   "metadata": {},
   "outputs": [
    {
     "data": {
      "text/plain": [
       "Index(['STATEFP', 'COUNTYFP', 'TRACTCE', 'GEOID_x', 'NAME', 'NAMELSAD',\n",
       "       'MTFCC', 'FUNCSTAT', 'ALAND', 'AWATER', 'INTPTLAT', 'INTPTLON',\n",
       "       'geometry', 'GEOID_y', 'GEOID11', '16+_emp_rate', '16+_uemp_rate',\n",
       "       'uemp_rate', 'med_hhinc', 'pop', 'pct_white', 'pct_black', 'pct_asian',\n",
       "       'pct_other', 'tol_hu', 'med_hvalue', 'pct_noins', 'pct_poverty'],\n",
       "      dtype='object')"
      ]
     },
     "execution_count": 24,
     "metadata": {},
     "output_type": "execute_result"
    }
   ],
   "source": [
    "gdf_tracts_2010['med_hvalue'] = gdf_tracts_2010['med_hvalue'].str.replace('+','',regex=False).str.replace(',','',regex=False)\n",
    "gdf_tracts_2010.columns"
   ]
  },
  {
   "cell_type": "code",
   "execution_count": 25,
   "metadata": {},
   "outputs": [
    {
     "data": {
      "text/plain": [
       "0     494.2\n",
       "1       0.0\n",
       "2     766.2\n",
       "3     613.8\n",
       "4     712.8\n",
       "5     697.0\n",
       "6     482.8\n",
       "7     399.2\n",
       "8     765.0\n",
       "9     774.7\n",
       "10    922.9\n",
       "11    859.6\n",
       "12    987.7\n",
       "13    529.9\n",
       "14    703.1\n",
       "Name: med_value, dtype: float64"
      ]
     },
     "execution_count": 25,
     "metadata": {},
     "output_type": "execute_result"
    }
   ],
   "source": [
    "gdf_tracts_2018['med_value'] = gdf_tracts_2018['med_value'].fillna(0)\n",
    "gdf_tracts_2018['med_value'].head(15)"
   ]
  },
  {
   "cell_type": "code",
   "execution_count": 26,
   "metadata": {},
   "outputs": [],
   "source": [
    "#convert med_hvalue to float\n",
    "gdf_tracts_2010['med_hvalue'] = gdf_tracts_2010['med_hvalue'].astype(float)"
   ]
  },
  {
   "cell_type": "code",
   "execution_count": 27,
   "metadata": {},
   "outputs": [],
   "source": [
    "#convert med_value to thousands\n",
    "gdf_tracts_2018['med_value'] = gdf_tracts_2018['med_value'] * 1000\n",
    "# gdf_tracts_2010['med_value'] = gdf_tracts_2010['med_value'] * 1000"
   ]
  },
  {
   "cell_type": "code",
   "execution_count": 28,
   "metadata": {},
   "outputs": [
    {
     "data": {
      "text/plain": [
       "Text(0.5, 1, 'Gold Line Adjacent Census Tracts-Median Home Value (2010)')"
      ]
     },
     "execution_count": 28,
     "metadata": {},
     "output_type": "execute_result"
    },
    {
     "data": {
      "image/png": "[encoded data removed]",
      "text/plain": [
       "<Figure size 576x720 with 1 Axes>"
      ]
     },
     "metadata": {
      "needs_background": "light"
     },
     "output_type": "display_data"
    },
    {
     "data": {
      "image/png": "[encoded data removed]",
      "text/plain": [
       "<Figure size 576x720 with 1 Axes>"
      ]
     },
     "metadata": {
      "needs_background": "light"
     },
     "output_type": "display_data"
    }
   ],
   "source": [
    "# plot map of median home values within gold line adjacent tracts for 2018 and 2010 with overlaid rail stops\n",
    "ax = gdf_tracts_2018.plot(column='med_value',\n",
    "                        cmap='viridis', lw=0.2,\n",
    "                      figsize=(8,10), legend=True, legend_kwds={'loc': 'lower right'}, scheme='Quantiles')\n",
    "ax = df_stations1.plot(ax=ax, c='r', markersize=10)\n",
    "ax.axis('off')\n",
    "ax.set_title('Gold Line Adjacent Census Tracts-Median Home Value (2018)')\n",
    "\n",
    "ax = gdf_tracts_2010.plot(column='med_hvalue',\n",
    "                        cmap='viridis', lw=0.2,\n",
    "                        figsize=(8,10), legend=True, legend_kwds={'loc': 'lower right'}, \n",
    "                        scheme='quantiles')\n",
    "\n",
    "ax = df_stations1.plot(ax=ax, c='r', markersize=10)\n",
    "ax.axis('off')\n",
    "ax.set_title('Gold Line Adjacent Census Tracts-Median Home Value (2010)')"
   ]
  },
  {
   "cell_type": "code",
   "execution_count": 29,
   "metadata": {},
   "outputs": [
    {
     "data": {
      "text/plain": [
       "Text(0.5, 1, 'Gold Line Adjacent Census Tracts-Unemployment Rate (2010)')"
      ]
     },
     "execution_count": 29,
     "metadata": {},
     "output_type": "execute_result"
    },
    {
     "data": {
      "image/png": "[encoded data removed]",
      "text/plain": [
       "<Figure size 576x720 with 1 Axes>"
      ]
     },
     "metadata": {
      "needs_background": "light"
     },
     "output_type": "display_data"
    },
    {
     "data": {
      "image/png": "[encoded data removed]",
      "text/plain": [
       "<Figure size 576x720 with 1 Axes>"
      ]
     },
     "metadata": {
      "needs_background": "light"
     },
     "output_type": "display_data"
    }
   ],
   "source": [
    "# plot map of unemployument rate within gold line adjacent tracts for 2018 and 2010 with overlaid rail stops\n",
    "ax = gdf_tracts_2018.plot(column='uemp_rate',\n",
    "                        cmap='Blues', lw=0.2,\n",
    "                      figsize=(8,10), legend=True, legend_kwds={'loc': 'lower right'}, scheme='Quantiles')\n",
    "ax = df_stations1.plot(ax=ax, c='r', markersize=10)\n",
    "ax.set_title('Gold Line Adjacent Census Tracts-Unemployment Rate (2018)')\n",
    "\n",
    "ax = gdf_tracts_2010.plot(column='uemp_rate',\n",
    "                        cmap='Blues', lw=0.2,\n",
    "                        figsize=(8,10), legend=True, legend_kwds={'loc': 'lower right'}, \n",
    "                        scheme='quantiles')\n",
    "\n",
    "ax = df_stations1.plot(ax=ax, c='r', markersize=10)\n",
    "ax.set_title('Gold Line Adjacent Census Tracts-Unemployment Rate (2010)')"
   ]
  },
  {
   "cell_type": "code",
   "execution_count": 30,
   "metadata": {},
   "outputs": [
    {
     "name": "stderr",
     "output_type": "stream",
     "text": [
      "<ipython-input-30-1008f9b41a49>:1: FutureWarning: \n",
      ".ix is deprecated. Please use\n",
      ".loc for label based indexing or\n",
      ".iloc for positional indexing\n",
      "\n",
      "See the documentation here:\n",
      "http://pandas.pydata.org/pandas-docs/stable/user_guide/indexing.html#ix-indexer-is-deprecated\n",
      "  type(gdf_tracts_2018.ix[23, 'geometry'])\n",
      "/opt/conda/lib/python3.8/site-packages/pandas/core/indexing.py:961: FutureWarning: \n",
      ".ix is deprecated. Please use\n",
      ".loc for label based indexing or\n",
      ".iloc for positional indexing\n",
      "\n",
      "See the documentation here:\n",
      "http://pandas.pydata.org/pandas-docs/stable/user_guide/indexing.html#ix-indexer-is-deprecated\n",
      "  return getattr(section, self.name)[new_key]\n"
     ]
    },
    {
     "data": {
      "text/plain": [
       "shapely.geometry.polygon.Polygon"
      ]
     },
     "execution_count": 30,
     "metadata": {},
     "output_type": "execute_result"
    }
   ],
   "source": [
    "type(gdf_tracts_2018.ix[23, 'geometry'])"
   ]
  },
  {
   "cell_type": "code",
   "execution_count": 31,
   "metadata": {},
   "outputs": [
    {
     "data": {
      "text/plain": [
       "Index(['LINE', 'LINENUM', 'LINENUM2', 'STNSEQ', 'STNSEQ2', 'DIR', 'STOPNUM',\n",
       "       'STATION', 'LAT', 'LONG', 'TPIS_NAME', 'POINT_X', 'POINT_Y',\n",
       "       'geometry'],\n",
       "      dtype='object')"
      ]
     },
     "execution_count": 31,
     "metadata": {},
     "output_type": "execute_result"
    }
   ],
   "source": [
    "#\n",
    "# gdf_stations['STATION'] = gdf_stations['STATION'].astype(float)\n",
    "gdf_stations.columns"
   ]
  },
  {
   "cell_type": "code",
   "execution_count": 32,
   "metadata": {},
   "outputs": [
    {
     "name": "stderr",
     "output_type": "stream",
     "text": [
      "<ipython-input-32-9843747e4dd8>:2: SettingWithCopyWarning: \n",
      "A value is trying to be set on a copy of a slice from a DataFrame.\n",
      "Try using .loc[row_indexer,col_indexer] = value instead\n",
      "\n",
      "See the caveats in the documentation: http://pandas.pydata.org/pandas-docs/stable/user_guide/indexing.html#returning-a-view-versus-a-copy\n",
      "  df_stations1['POINT_X'] = df_stations1['POINT_X'].astype(float)\n",
      "<ipython-input-32-9843747e4dd8>:3: SettingWithCopyWarning: \n",
      "A value is trying to be set on a copy of a slice from a DataFrame.\n",
      "Try using .loc[row_indexer,col_indexer] = value instead\n",
      "\n",
      "See the caveats in the documentation: http://pandas.pydata.org/pandas-docs/stable/user_guide/indexing.html#returning-a-view-versus-a-copy\n",
      "  df_stations1['POINT_Y'] = df_stations1['POINT_Y'].astype(float)\n",
      "<ipython-input-32-9843747e4dd8>:4: SettingWithCopyWarning: \n",
      "A value is trying to be set on a copy of a slice from a DataFrame.\n",
      "Try using .loc[row_indexer,col_indexer] = value instead\n",
      "\n",
      "See the caveats in the documentation: http://pandas.pydata.org/pandas-docs/stable/user_guide/indexing.html#returning-a-view-versus-a-copy\n",
      "  df_stations1['STATION'] = df_stations1['STATION'].astype(str)\n"
     ]
    },
    {
     "ename": "ValueError",
     "evalue": "Image size of -2106347868x408323937 pixels is too large. It must be less than 2^16 in each direction.",
     "output_type": "error",
     "traceback": [
      "\u001b[0;31m---------------------------------------------------------------------------\u001b[0m",
      "\u001b[0;31mValueError\u001b[0m                                Traceback (most recent call last)",
      "\u001b[0;32m/opt/conda/lib/python3.8/site-packages/IPython/core/formatters.py\u001b[0m in \u001b[0;36m__call__\u001b[0;34m(self, obj)\u001b[0m\n\u001b[1;32m    339\u001b[0m                 \u001b[0;32mpass\u001b[0m\u001b[0;34m\u001b[0m\u001b[0;34m\u001b[0m\u001b[0m\n\u001b[1;32m    340\u001b[0m             \u001b[0;32melse\u001b[0m\u001b[0;34m:\u001b[0m\u001b[0;34m\u001b[0m\u001b[0;34m\u001b[0m\u001b[0m\n\u001b[0;32m--> 341\u001b[0;31m                 \u001b[0;32mreturn\u001b[0m \u001b[0mprinter\u001b[0m\u001b[0;34m(\u001b[0m\u001b[0mobj\u001b[0m\u001b[0;34m)\u001b[0m\u001b[0;34m\u001b[0m\u001b[0;34m\u001b[0m\u001b[0m\n\u001b[0m\u001b[1;32m    342\u001b[0m             \u001b[0;31m# Finally look for special method names\u001b[0m\u001b[0;34m\u001b[0m\u001b[0;34m\u001b[0m\u001b[0;34m\u001b[0m\u001b[0m\n\u001b[1;32m    343\u001b[0m             \u001b[0mmethod\u001b[0m \u001b[0;34m=\u001b[0m \u001b[0mget_real_method\u001b[0m\u001b[0;34m(\u001b[0m\u001b[0mobj\u001b[0m\u001b[0;34m,\u001b[0m \u001b[0mself\u001b[0m\u001b[0;34m.\u001b[0m\u001b[0mprint_method\u001b[0m\u001b[0;34m)\u001b[0m\u001b[0;34m\u001b[0m\u001b[0;34m\u001b[0m\u001b[0m\n",
      "\u001b[0;32m/opt/conda/lib/python3.8/site-packages/IPython/core/pylabtools.py\u001b[0m in \u001b[0;36m<lambda>\u001b[0;34m(fig)\u001b[0m\n\u001b[1;32m    242\u001b[0m \u001b[0;34m\u001b[0m\u001b[0m\n\u001b[1;32m    243\u001b[0m     \u001b[0;32mif\u001b[0m \u001b[0;34m'png'\u001b[0m \u001b[0;32min\u001b[0m \u001b[0mformats\u001b[0m\u001b[0;34m:\u001b[0m\u001b[0;34m\u001b[0m\u001b[0;34m\u001b[0m\u001b[0m\n\u001b[0;32m--> 244\u001b[0;31m         \u001b[0mpng_formatter\u001b[0m\u001b[0;34m.\u001b[0m\u001b[0mfor_type\u001b[0m\u001b[0;34m(\u001b[0m\u001b[0mFigure\u001b[0m\u001b[0;34m,\u001b[0m \u001b[0;32mlambda\u001b[0m \u001b[0mfig\u001b[0m\u001b[0;34m:\u001b[0m \u001b[0mprint_figure\u001b[0m\u001b[0;34m(\u001b[0m\u001b[0mfig\u001b[0m\u001b[0;34m,\u001b[0m \u001b[0;34m'png'\u001b[0m\u001b[0;34m,\u001b[0m \u001b[0;34m**\u001b[0m\u001b[0mkwargs\u001b[0m\u001b[0;34m)\u001b[0m\u001b[0;34m)\u001b[0m\u001b[0;34m\u001b[0m\u001b[0;34m\u001b[0m\u001b[0m\n\u001b[0m\u001b[1;32m    245\u001b[0m     \u001b[0;32mif\u001b[0m \u001b[0;34m'retina'\u001b[0m \u001b[0;32min\u001b[0m \u001b[0mformats\u001b[0m \u001b[0;32mor\u001b[0m \u001b[0;34m'png2x'\u001b[0m \u001b[0;32min\u001b[0m \u001b[0mformats\u001b[0m\u001b[0;34m:\u001b[0m\u001b[0;34m\u001b[0m\u001b[0;34m\u001b[0m\u001b[0m\n\u001b[1;32m    246\u001b[0m         \u001b[0mpng_formatter\u001b[0m\u001b[0;34m.\u001b[0m\u001b[0mfor_type\u001b[0m\u001b[0;34m(\u001b[0m\u001b[0mFigure\u001b[0m\u001b[0;34m,\u001b[0m \u001b[0;32mlambda\u001b[0m \u001b[0mfig\u001b[0m\u001b[0;34m:\u001b[0m \u001b[0mretina_figure\u001b[0m\u001b[0;34m(\u001b[0m\u001b[0mfig\u001b[0m\u001b[0;34m,\u001b[0m \u001b[0;34m**\u001b[0m\u001b[0mkwargs\u001b[0m\u001b[0;34m)\u001b[0m\u001b[0;34m)\u001b[0m\u001b[0;34m\u001b[0m\u001b[0;34m\u001b[0m\u001b[0m\n",
      "\u001b[0;32m/opt/conda/lib/python3.8/site-packages/IPython/core/pylabtools.py\u001b[0m in \u001b[0;36mprint_figure\u001b[0;34m(fig, fmt, bbox_inches, **kwargs)\u001b[0m\n\u001b[1;32m    126\u001b[0m \u001b[0;34m\u001b[0m\u001b[0m\n\u001b[1;32m    127\u001b[0m     \u001b[0mbytes_io\u001b[0m \u001b[0;34m=\u001b[0m \u001b[0mBytesIO\u001b[0m\u001b[0;34m(\u001b[0m\u001b[0;34m)\u001b[0m\u001b[0;34m\u001b[0m\u001b[0;34m\u001b[0m\u001b[0m\n\u001b[0;32m--> 128\u001b[0;31m     \u001b[0mfig\u001b[0m\u001b[0;34m.\u001b[0m\u001b[0mcanvas\u001b[0m\u001b[0;34m.\u001b[0m\u001b[0mprint_figure\u001b[0m\u001b[0;34m(\u001b[0m\u001b[0mbytes_io\u001b[0m\u001b[0;34m,\u001b[0m \u001b[0;34m**\u001b[0m\u001b[0mkw\u001b[0m\u001b[0;34m)\u001b[0m\u001b[0;34m\u001b[0m\u001b[0;34m\u001b[0m\u001b[0m\n\u001b[0m\u001b[1;32m    129\u001b[0m     \u001b[0mdata\u001b[0m \u001b[0;34m=\u001b[0m \u001b[0mbytes_io\u001b[0m\u001b[0;34m.\u001b[0m\u001b[0mgetvalue\u001b[0m\u001b[0;34m(\u001b[0m\u001b[0;34m)\u001b[0m\u001b[0;34m\u001b[0m\u001b[0;34m\u001b[0m\u001b[0m\n\u001b[1;32m    130\u001b[0m     \u001b[0;32mif\u001b[0m \u001b[0mfmt\u001b[0m \u001b[0;34m==\u001b[0m \u001b[0;34m'svg'\u001b[0m\u001b[0;34m:\u001b[0m\u001b[0;34m\u001b[0m\u001b[0;34m\u001b[0m\u001b[0m\n",
      "\u001b[0;32m/opt/conda/lib/python3.8/site-packages/matplotlib/backend_bases.py\u001b[0m in \u001b[0;36mprint_figure\u001b[0;34m(self, filename, dpi, facecolor, edgecolor, orientation, format, bbox_inches, **kwargs)\u001b[0m\n\u001b[1;32m   2080\u001b[0m \u001b[0;34m\u001b[0m\u001b[0m\n\u001b[1;32m   2081\u001b[0m             \u001b[0;32mtry\u001b[0m\u001b[0;34m:\u001b[0m\u001b[0;34m\u001b[0m\u001b[0;34m\u001b[0m\u001b[0m\n\u001b[0;32m-> 2082\u001b[0;31m                 result = print_method(\n\u001b[0m\u001b[1;32m   2083\u001b[0m                     \u001b[0mfilename\u001b[0m\u001b[0;34m,\u001b[0m\u001b[0;34m\u001b[0m\u001b[0;34m\u001b[0m\u001b[0m\n\u001b[1;32m   2084\u001b[0m                     \u001b[0mdpi\u001b[0m\u001b[0;34m=\u001b[0m\u001b[0mdpi\u001b[0m\u001b[0;34m,\u001b[0m\u001b[0;34m\u001b[0m\u001b[0;34m\u001b[0m\u001b[0m\n",
      "\u001b[0;32m/opt/conda/lib/python3.8/site-packages/matplotlib/backends/backend_agg.py\u001b[0m in \u001b[0;36mprint_png\u001b[0;34m(self, filename_or_obj, metadata, pil_kwargs, *args, **kwargs)\u001b[0m\n\u001b[1;32m    525\u001b[0m \u001b[0;34m\u001b[0m\u001b[0m\n\u001b[1;32m    526\u001b[0m         \u001b[0;32melse\u001b[0m\u001b[0;34m:\u001b[0m\u001b[0;34m\u001b[0m\u001b[0;34m\u001b[0m\u001b[0m\n\u001b[0;32m--> 527\u001b[0;31m             \u001b[0mFigureCanvasAgg\u001b[0m\u001b[0;34m.\u001b[0m\u001b[0mdraw\u001b[0m\u001b[0;34m(\u001b[0m\u001b[0mself\u001b[0m\u001b[0;34m)\u001b[0m\u001b[0;34m\u001b[0m\u001b[0;34m\u001b[0m\u001b[0m\n\u001b[0m\u001b[1;32m    528\u001b[0m             \u001b[0mrenderer\u001b[0m \u001b[0;34m=\u001b[0m \u001b[0mself\u001b[0m\u001b[0;34m.\u001b[0m\u001b[0mget_renderer\u001b[0m\u001b[0;34m(\u001b[0m\u001b[0;34m)\u001b[0m\u001b[0;34m\u001b[0m\u001b[0;34m\u001b[0m\u001b[0m\n\u001b[1;32m    529\u001b[0m             \u001b[0;32mwith\u001b[0m \u001b[0mcbook\u001b[0m\u001b[0;34m.\u001b[0m\u001b[0m_setattr_cm\u001b[0m\u001b[0;34m(\u001b[0m\u001b[0mrenderer\u001b[0m\u001b[0;34m,\u001b[0m \u001b[0mdpi\u001b[0m\u001b[0;34m=\u001b[0m\u001b[0mself\u001b[0m\u001b[0;34m.\u001b[0m\u001b[0mfigure\u001b[0m\u001b[0;34m.\u001b[0m\u001b[0mdpi\u001b[0m\u001b[0;34m)\u001b[0m\u001b[0;34m,\u001b[0m\u001b[0;31m \u001b[0m\u001b[0;31m\\\u001b[0m\u001b[0;34m\u001b[0m\u001b[0;34m\u001b[0m\u001b[0m\n",
      "\u001b[0;32m/opt/conda/lib/python3.8/site-packages/matplotlib/backends/backend_agg.py\u001b[0m in \u001b[0;36mdraw\u001b[0;34m(self)\u001b[0m\n\u001b[1;32m    384\u001b[0m         \u001b[0mDraw\u001b[0m \u001b[0mthe\u001b[0m \u001b[0mfigure\u001b[0m \u001b[0musing\u001b[0m \u001b[0mthe\u001b[0m \u001b[0mrenderer\u001b[0m\u001b[0;34m.\u001b[0m\u001b[0;34m\u001b[0m\u001b[0;34m\u001b[0m\u001b[0m\n\u001b[1;32m    385\u001b[0m         \"\"\"\n\u001b[0;32m--> 386\u001b[0;31m         \u001b[0mself\u001b[0m\u001b[0;34m.\u001b[0m\u001b[0mrenderer\u001b[0m \u001b[0;34m=\u001b[0m \u001b[0mself\u001b[0m\u001b[0;34m.\u001b[0m\u001b[0mget_renderer\u001b[0m\u001b[0;34m(\u001b[0m\u001b[0mcleared\u001b[0m\u001b[0;34m=\u001b[0m\u001b[0;32mTrue\u001b[0m\u001b[0;34m)\u001b[0m\u001b[0;34m\u001b[0m\u001b[0;34m\u001b[0m\u001b[0m\n\u001b[0m\u001b[1;32m    387\u001b[0m         \u001b[0;32mwith\u001b[0m \u001b[0mRendererAgg\u001b[0m\u001b[0;34m.\u001b[0m\u001b[0mlock\u001b[0m\u001b[0;34m:\u001b[0m\u001b[0;34m\u001b[0m\u001b[0;34m\u001b[0m\u001b[0m\n\u001b[1;32m    388\u001b[0m             \u001b[0mself\u001b[0m\u001b[0;34m.\u001b[0m\u001b[0mfigure\u001b[0m\u001b[0;34m.\u001b[0m\u001b[0mdraw\u001b[0m\u001b[0;34m(\u001b[0m\u001b[0mself\u001b[0m\u001b[0;34m.\u001b[0m\u001b[0mrenderer\u001b[0m\u001b[0;34m)\u001b[0m\u001b[0;34m\u001b[0m\u001b[0;34m\u001b[0m\u001b[0m\n",
      "\u001b[0;32m/opt/conda/lib/python3.8/site-packages/matplotlib/backends/backend_agg.py\u001b[0m in \u001b[0;36mget_renderer\u001b[0;34m(self, cleared)\u001b[0m\n\u001b[1;32m    397\u001b[0m                           and getattr(self, \"_lastKey\", None) == key)\n\u001b[1;32m    398\u001b[0m         \u001b[0;32mif\u001b[0m \u001b[0;32mnot\u001b[0m \u001b[0mreuse_renderer\u001b[0m\u001b[0;34m:\u001b[0m\u001b[0;34m\u001b[0m\u001b[0;34m\u001b[0m\u001b[0m\n\u001b[0;32m--> 399\u001b[0;31m             \u001b[0mself\u001b[0m\u001b[0;34m.\u001b[0m\u001b[0mrenderer\u001b[0m \u001b[0;34m=\u001b[0m \u001b[0mRendererAgg\u001b[0m\u001b[0;34m(\u001b[0m\u001b[0mw\u001b[0m\u001b[0;34m,\u001b[0m \u001b[0mh\u001b[0m\u001b[0;34m,\u001b[0m \u001b[0mself\u001b[0m\u001b[0;34m.\u001b[0m\u001b[0mfigure\u001b[0m\u001b[0;34m.\u001b[0m\u001b[0mdpi\u001b[0m\u001b[0;34m)\u001b[0m\u001b[0;34m\u001b[0m\u001b[0;34m\u001b[0m\u001b[0m\n\u001b[0m\u001b[1;32m    400\u001b[0m             \u001b[0mself\u001b[0m\u001b[0;34m.\u001b[0m\u001b[0m_lastKey\u001b[0m \u001b[0;34m=\u001b[0m \u001b[0mkey\u001b[0m\u001b[0;34m\u001b[0m\u001b[0;34m\u001b[0m\u001b[0m\n\u001b[1;32m    401\u001b[0m         \u001b[0;32melif\u001b[0m \u001b[0mcleared\u001b[0m\u001b[0;34m:\u001b[0m\u001b[0;34m\u001b[0m\u001b[0;34m\u001b[0m\u001b[0m\n",
      "\u001b[0;32m/opt/conda/lib/python3.8/site-packages/matplotlib/backends/backend_agg.py\u001b[0m in \u001b[0;36m__init__\u001b[0;34m(self, width, height, dpi)\u001b[0m\n\u001b[1;32m     84\u001b[0m         \u001b[0mself\u001b[0m\u001b[0;34m.\u001b[0m\u001b[0mwidth\u001b[0m \u001b[0;34m=\u001b[0m \u001b[0mwidth\u001b[0m\u001b[0;34m\u001b[0m\u001b[0;34m\u001b[0m\u001b[0m\n\u001b[1;32m     85\u001b[0m         \u001b[0mself\u001b[0m\u001b[0;34m.\u001b[0m\u001b[0mheight\u001b[0m \u001b[0;34m=\u001b[0m \u001b[0mheight\u001b[0m\u001b[0;34m\u001b[0m\u001b[0;34m\u001b[0m\u001b[0m\n\u001b[0;32m---> 86\u001b[0;31m         \u001b[0mself\u001b[0m\u001b[0;34m.\u001b[0m\u001b[0m_renderer\u001b[0m \u001b[0;34m=\u001b[0m \u001b[0m_RendererAgg\u001b[0m\u001b[0;34m(\u001b[0m\u001b[0mint\u001b[0m\u001b[0;34m(\u001b[0m\u001b[0mwidth\u001b[0m\u001b[0;34m)\u001b[0m\u001b[0;34m,\u001b[0m \u001b[0mint\u001b[0m\u001b[0;34m(\u001b[0m\u001b[0mheight\u001b[0m\u001b[0;34m)\u001b[0m\u001b[0;34m,\u001b[0m \u001b[0mdpi\u001b[0m\u001b[0;34m)\u001b[0m\u001b[0;34m\u001b[0m\u001b[0;34m\u001b[0m\u001b[0m\n\u001b[0m\u001b[1;32m     87\u001b[0m         \u001b[0mself\u001b[0m\u001b[0;34m.\u001b[0m\u001b[0m_filter_renderers\u001b[0m \u001b[0;34m=\u001b[0m \u001b[0;34m[\u001b[0m\u001b[0;34m]\u001b[0m\u001b[0;34m\u001b[0m\u001b[0;34m\u001b[0m\u001b[0m\n\u001b[1;32m     88\u001b[0m \u001b[0;34m\u001b[0m\u001b[0m\n",
      "\u001b[0;31mValueError\u001b[0m: Image size of -2106347868x408323937 pixels is too large. It must be less than 2^16 in each direction."
     ]
    },
    {
     "data": {
      "text/plain": [
       "<Figure size 432x288 with 1 Axes>"
      ]
     },
     "metadata": {
      "needs_background": "light"
     },
     "output_type": "display_data"
    }
   ],
   "source": [
    "# gdf_tracts_2018.plot()\n",
    "df_stations1['POINT_X'] = df_stations1['POINT_X'].astype(float)\n",
    "df_stations1['POINT_Y'] = df_stations1['POINT_Y'].astype(float)\n",
    "df_stations1['STATION'] = df_stations1['STATION'].astype(str)\n",
    "# for idx, row in df_stations1.iterrows():\n",
    "#     plt.annotate(s=df_stations1['STATION'], \n",
    "#                  xy=(df_stations1['POINT_X'],df_stations1['POINT_Y']),\n",
    "#                  horizontalalignment='center')\n",
    "texts=[]\n",
    "\n",
    "for x, y, label in zip(df_stations1['POINT_X'], df_stations1['POINT_Y'], df_stations1['STATION']):\n",
    "    texts.append(plt.text(x, y, label, fontsize = 8))\n",
    "\n"
   ]
  },
  {
   "cell_type": "code",
   "execution_count": null,
   "metadata": {},
   "outputs": [],
   "source": []
  }
 ],
 "metadata": {
  "kernelspec": {
   "display_name": "Python 3",
   "language": "python",
   "name": "python3"
  },
  "language_info": {
   "codemirror_mode": {
    "name": "ipython",
    "version": 3
   },
   "file_extension": ".py",
   "mimetype": "text/x-python",
   "name": "python",
   "nbconvert_exporter": "python",
   "pygments_lexer": "ipython3",
   "version": "3.7.6"
  }
 },
 "nbformat": 4,
 "nbformat_minor": 4
}
