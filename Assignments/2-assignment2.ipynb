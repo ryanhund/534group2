{
 "cells": [
  {
   "cell_type": "markdown",
   "metadata": {},
   "source": [
    "#### Group 2, Group Assignment 2\n",
    "\n",
    "The first function will need to accept an input and return True if the function is a prime number, or false otherwise. The input will be used arithmetically, and will therefore need to be checked for type. After verifying that the input is a non-negative integer, the program creates an empty list to store factors. The program then iterates through all integers between 0 and n, checking via modular division to determine if the integer is a factor. If it is, it is added to the list. The list is then tested for length; if the length is 2, n is determined to be a prime number. Otherwise, the function returns false.\n",
    "\n",
    "The second function accepts an input and prints (not returns) all prime numbers between 0 and n. It creates an empty list to store primes, then verifies the input as an integer (non-numeric inputs will throw a value error). For each integer between 0 and the input, the function calls is_prime and, if the integer is prime, appends it to the previously-created list. Since the output is supposed to be printed, a second for loop iterates through the created list and prints all its values.\n",
    "\n",
    "The third function concerns the number of primes between 0 and an input. This function is similar to the above, except instead of storing values in a list, we will use an integer to count the number of primes, still detected via a for loop. Then, the value of the counter is passed through the function as an output, as specified in the problem. \n",
    "\n",
    "The fourth function accepts an input n and returns a list of the first n prime numbers. This function uses two counters and a list. The first counter counts up by 1 from 0. The second counter counts the number of prime numbers found, and the list stores their values. A while loop is used. The loop will break after the number of discovered primes matches the target value. The function calls is_prime to determine if each sequential integer is a prime number. If it is, it is appended to the list and prime counter increments by 1. The integer counter increments by 1 and the list repeats. The list is passed through the function as an output. \n",
    "\n",
    "##### Development Process\n",
    "\n",
    "Per Think Python section 4.8, our development process will develop functions that will be generalized to the extent that they will be able to be used in numerous ways. We will try to improve our program to be more succinct and readable. Furthermore, in accordance with Think Python section 6.2, we will continuously employ incremental development to minimize complications with the writing of our functions. The functions were developed by moving from the abstract to the concrete. For example, the initial plan for the first function was input -> type-checking -> prime-checking -> output. Each element was created in turn and tested by passing known values. Values were printed at various stages in the process in order to facilitate debugging. \n"
   ]
  },
  {
   "cell_type": "code",
   "execution_count": 1,
   "metadata": {},
   "outputs": [
    {
     "name": "stdout",
     "output_type": "stream",
     "text": [
      "True\n",
      "False\n",
      "False\n"
     ]
    }
   ],
   "source": [
    "def is_prime(n):\n",
    "    try:                           #confirms n as int\n",
    "        n = int(n)\n",
    "    except ValueError:             #returns false if n is not int or float\n",
    "        return False\n",
    "    else:\n",
    "        if n < 0:                  #confirms n is positive\n",
    "            return False\n",
    "        factorl = []               #creates an empty list for factors\n",
    "        for i in range(1,n+1):     #iterates through integers from 1 to n\n",
    "            if n % i == 0:         #modulus - checks for remainder\n",
    "                factorl.append(i)  #if no remainder, adds to factor list\n",
    "        #print(factorl)            #for debugging\n",
    "        if len(factorl) == 2:      #checks for primes\n",
    "            return True\n",
    "        else:\n",
    "            return False\n",
    "\n",
    "for i in (19,16,-1):\n",
    "    print(is_prime(i))             #test"
   ]
  },
  {
   "cell_type": "code",
   "execution_count": 2,
   "metadata": {},
   "outputs": [
    {
     "name": "stdout",
     "output_type": "stream",
     "text": [
      "2\n",
      "3\n",
      "5\n",
      "7\n",
      "11\n",
      "13\n",
      "17\n"
     ]
    }
   ],
   "source": [
    "def print_primes(n):\n",
    "    primel = []                  #create empty list\n",
    "    n = int(n)                   #set n as int (no type checking because I'm lazy)\n",
    "    for i in range(0,n+1):       #iterates through ints from 1 to n\n",
    "        if is_prime(i):          #calls is_prime\n",
    "            primel.append(i)\n",
    "    for j in primel:             #prints primes\n",
    "        print(j)\n",
    "\n",
    "print_primes(17)"
   ]
  },
  {
   "cell_type": "code",
   "execution_count": 3,
   "metadata": {},
   "outputs": [
    {
     "data": {
      "text/plain": [
       "8"
      ]
     },
     "execution_count": 3,
     "metadata": {},
     "output_type": "execute_result"
    }
   ],
   "source": [
    "def count_primes(n):\n",
    "    primecounter = 0             #counter for primes\n",
    "    n = int(n)                   #sets n to int\n",
    "    for i in range(0,n+1):       #iterates through ints from 1 to n\n",
    "        if is_prime(i):          #calls is_prime\n",
    "            primecounter += 1    #increments counter by 1\n",
    "    return primecounter\n",
    "\n",
    "count_primes(19)"
   ]
  },
  {
   "cell_type": "code",
   "execution_count": 4,
   "metadata": {},
   "outputs": [
    {
     "data": {
      "text/plain": [
       "[2, 3, 5, 7, 11]"
      ]
     },
     "execution_count": 4,
     "metadata": {},
     "output_type": "execute_result"
    }
   ],
   "source": [
    "def first_primes(n):\n",
    "    primecounter = 0             #counter for primes\n",
    "    numcounter = 0               #counter for ints\n",
    "    primel = []                  #empty list to collect primes\n",
    "    n = int(n)                   #set n to int\n",
    "    while primecounter < n:      #while counter for primes < n\n",
    "        if is_prime(numcounter): #calls is_prime on an int\n",
    "            primel.append(numcounter) #if int is prime, appends to list\n",
    "            primecounter += 1    #prime counter increment\n",
    "        numcounter += 1          #int counter increment\n",
    "    return(primel)\n",
    "\n",
    "first_primes(5)"
   ]
  },
  {
   "cell_type": "markdown",
   "metadata": {},
   "source": [
    "Each group member attempted all four questions on their own. The group then convened and discussed their answers together, before settling on the final code to turn in.\n",
    "\n",
    "Ryan Hund - Assembled the notebook for submission. Wrote the majority of the final product, both code and text.\n",
    "\n",
    "Serena Lin - Wrote the first draft of the narrative and attempted three of the questions before consulting with the group. Discussed each function with group members to clarify questions and to finalize the code.\n",
    "\n",
    "Vesna Petrin - Attempted all four problems and consulted with group members on narrative description and which version of the code to submit as final. \n",
    "\n",
    "Minghang Yu - Attempted all four questions and provided personal answers and participated in discussion with group members to improve the final deliverable codes.\n",
    "\n",
    "Fiona Xiong -Attempted all four questions and worked through all of them before consulting better solutions with group members on Q3 & 4.\n",
    "\n",
    "Cason Hall - Attempted all four functions, worked through 1 & 2 independently and consulted with the group on 3 & 4. Helped coordinate final deliverable and group meeting/work. Help edit narrative. \n"
   ]
  }
 ],
 "metadata": {
  "kernelspec": {
   "display_name": "Python 3",
   "language": "python",
   "name": "python3"
  },
  "language_info": {
   "codemirror_mode": {
    "name": "ipython",
    "version": 3
   },
   "file_extension": ".py",
   "mimetype": "text/x-python",
   "name": "python",
   "nbconvert_exporter": "python",
   "pygments_lexer": "ipython3",
   "version": "3.8.1"
  }
 },
 "nbformat": 4,
 "nbformat_minor": 4
}
