{
 "cells": [
  {
   "cell_type": "markdown",
   "metadata": {},
   "source": [
    "## Data Loading/Cleaning\n",
    "\n",
    "Note: this file assumes that it is located in the same directory as the 534group2 folder downloaded from github. In order to work it must be moved to that directory."
   ]
  },
  {
   "cell_type": "code",
   "execution_count": 1,
   "metadata": {},
   "outputs": [],
   "source": [
    "import geopandas as gpd\n",
    "import numpy as np\n",
    "import pandas as pd\n",
    "import seaborn as sns\n",
    "import statsmodels.api as sm\n",
    "from shapely.geometry import Point"
   ]
  },
  {
   "cell_type": "code",
   "execution_count": 2,
   "metadata": {},
   "outputs": [],
   "source": [
    "df_2000 = pd.read_csv('534group2/ACS data/2000_tractdata.csv', dtype={'GEOID11':str})\n",
    "df_2010 = pd.read_csv('534group2/ACS data/2010_tractdata.csv', dtype={'GEOID11':str})\n",
    "df_2018 = pd.read_csv('534group2/ACS data/2018_tractdata.csv', dtype={'GEOID11':str})"
   ]
  },
  {
   "cell_type": "code",
   "execution_count": 3,
   "metadata": {},
   "outputs": [],
   "source": [
    "gdf_tracts_2010 = gpd.read_file('534group2/shapefiles/tl_2017_06_tract/')"
   ]
  },
  {
   "cell_type": "code",
   "execution_count": 4,
   "metadata": {},
   "outputs": [],
   "source": [
    "goldtracts2010 = ['206020','206031','207103','206010','207102','206020',\n",
    "                    '199000','185202','185310','199400','185100','183610',\n",
    "                    '183620','183701','183810','183520','480600','480703',\n",
    "                    '464000','463602','463700','461902','462302','462202',\n",
    "                    '462201','462301','462700','463000','463102','462900']\n",
    "\n",
    "controltracts2010 = ['203500','206032','197700','199700','207101',\n",
    "                    '203500','185204','185203','199300',\n",
    "                    '183220','183101','183820','183510','480704',\n",
    "                    '480702','463601','463900','461700',\n",
    "                    '463500','463601','462100','462400','463400',\n",
    "                    '430600','463200','462800']\n",
    "\n",
    "goldtracts2000 = ['206020','206030','207100','203500','207400',\n",
    "                    '206010','207100','197700','199000','199400',\n",
    "                    '199300','185202','185100','199300','183700','183810',\n",
    "                    '183820','183610','183620','480704','480500','480703',\n",
    "                    '480600','463900','464000','463700','463600','461900',\n",
    "                    '462200','462300','462700','463102','463000','462900']\n",
    "\n",
    "controltracts2000 = ['203300','204410','197600','203600','207300','199000',\n",
    "                    '197600','197300','185320','199201','199202','185310',\n",
    "                    '186200','201301','183101','183520','183510','183300',\n",
    "                    '183220','480804','480400','201120','183102','463800',\n",
    "                    '463500','461700','464100','462000','462100','462400',\n",
    "                    '462600','463101','430600','462500']"
   ]
  },
  {
   "cell_type": "code",
   "execution_count": 5,
   "metadata": {},
   "outputs": [],
   "source": [
    "#clean data, extract tracts from GEOIDs\n",
    "df_2000['GEOID11'] = df_2000['GEOID11'].str.slice(-6) #pull tracts out of GEOIDs\n",
    "df_2010['GEOID11'] = df_2010['GEOID11'].str.slice(-6) #pull tracts out of GEOIDs\n",
    "df_2018['GEOID11'] = df_2018['GEOID11'].str.slice(-6) #pull tracts out of GEOIDs\n",
    "\n",
    "df_2000 = df_2000.set_index('GEOID11') #set tracts as index\n",
    "df_2010 = df_2010.set_index('GEOID11') #set tracts as index\n",
    "df_2018 = df_2018.set_index('GEOID11') #set tracts as index\n",
    "\n",
    "#clean med_hhinc column\n",
    "df_2018['med_hhinc'] = df_2018['med_hhinc'].replace({'250,000+':'250000','-':'0'})\n",
    "df_2018['med_hhinc'] = df_2018['med_hhinc'].astype(float)\n",
    "\n",
    "df_2018['pct_white'] = df_2018['pct_white'].replace({'-':'0','#DIV/0!':'0'})\n",
    "df_2018['pct_white'] = df_2018['pct_white'].astype(float)\n",
    "\n",
    "df_2018['pct_poverty'] = df_2018['pct_poverty'].replace({'-':'0'})\n",
    "df_2018['pct_poverty'] = df_2018['pct_poverty'].astype(float)\n",
    "\n",
    "df_2018['uemp_rate'] = df_2018['uemp_rate'].replace({'-':'0'})\n",
    "df_2018['uemp_rate'] = df_2018['uemp_rate'].astype(float)"
   ]
  },
  {
   "cell_type": "code",
   "execution_count": 6,
   "metadata": {},
   "outputs": [],
   "source": [
    "#create new dataframes for station tracts\n",
    "df_2018_stations = df_2018.loc[goldtracts2010]\n",
    "df_2018_control = df_2018.loc[controltracts2010]\n",
    "\n",
    "df_2010_stations = df_2010.loc[goldtracts2010]\n",
    "df_2010_control = df_2010.loc[controltracts2010]"
   ]
  },
  {
   "cell_type": "code",
   "execution_count": 7,
   "metadata": {},
   "outputs": [],
   "source": [
    "#creates dataframe called df_2018_all that includes tracts from the station and control groups\n",
    "#df_2018_all has a column called 'exp' that =1 if tract is a station tract and 0 if tract is a control tract\n",
    "\n",
    "df_2018_all = df_2018.loc[goldtracts2010 + controltracts2010]\n",
    "df_2018_all['exp'] = [1 if i in goldtracts2010 else 0 for i,j in df_2018_all.iterrows()]"
   ]
  },
  {
   "cell_type": "code",
   "execution_count": 8,
   "metadata": {},
   "outputs": [],
   "source": [
    "#CLean and merge gdf_tracts_2010 with 2018 ACS data in df_2018_all\n",
    "\n",
    "gdf_tracts_2010['GEOID'] = gdf_tracts_2010['GEOID'].str.slice(-6) #pulls tracts out of GEOID column\n",
    "\n",
    "#merge the datasets on census tract codes\n",
    "gdf_2018_all = pd.merge(left=gdf_tracts_2010, right=df_2018_all, how='left', left_on='GEOID', right_on='GEOID11')"
   ]
  },
  {
   "cell_type": "markdown",
   "metadata": {},
   "source": [
    "## Regressions"
   ]
  },
  {
   "cell_type": "code",
   "execution_count": 9,
   "metadata": {},
   "outputs": [
    {
     "data": {
      "text/plain": [
       "Index(['STATEFP', 'COUNTYFP', 'TRACTCE', 'GEOID_x', 'NAME', 'NAMELSAD',\n",
       "       'MTFCC', 'FUNCSTAT', 'ALAND', 'AWATER', 'INTPTLAT', 'INTPTLON',\n",
       "       'geometry', 'GEOID_y', '16+_emp_rate', '16+_uemp_rate', 'uemp_rate',\n",
       "       'med_hhinc', 'pop', 'pct_white', 'pct_black', 'pct_asian', 'pct_other',\n",
       "       'tol_hu', 'med_value', 'pct_noins', 'pct_poverty', 'city', 'metro',\n",
       "       'med_rent', 'exp'],\n",
       "      dtype='object')"
      ]
     },
     "execution_count": 9,
     "metadata": {},
     "output_type": "execute_result"
    }
   ],
   "source": [
    "gdf_2018_all.columns"
   ]
  },
  {
   "cell_type": "code",
   "execution_count": 12,
   "metadata": {},
   "outputs": [],
   "source": [
    "#create variable for housing density\n",
    "gdf_2018_all['housing_density'] = gdf_2018_all['tol_hu'] / gdf_2018_all['ALAND']\n",
    "\n",
    "#create variable for population density\n",
    "gdf_2018_all['pop_density'] = gdf_2018_all['pop'] / gdf_2018_all['ALAND']"
   ]
  },
  {
   "cell_type": "code",
   "execution_count": 14,
   "metadata": {},
   "outputs": [
    {
     "name": "stdout",
     "output_type": "stream",
     "text": [
      "                            OLS Regression Results                            \n",
      "==============================================================================\n",
      "Dep. Variable:              med_value   R-squared:                       0.610\n",
      "Model:                            OLS   Adj. R-squared:                  0.587\n",
      "Method:                 Least Squares   F-statistic:                     26.61\n",
      "Date:                Sun, 12 Apr 2020   Prob (F-statistic):           1.69e-10\n",
      "Time:                        17:41:22   Log-Likelihood:                -355.92\n",
      "No. Observations:                  55   AIC:                             719.8\n",
      "Df Residuals:                      51   BIC:                             727.9\n",
      "Df Model:                           3                                         \n",
      "Covariance Type:            nonrobust                                         \n",
      "===============================================================================\n",
      "                  coef    std err          t      P>|t|      [0.025      0.975]\n",
      "-------------------------------------------------------------------------------\n",
      "const         232.4596    101.391      2.293      0.026      28.908     436.011\n",
      "med_hhinc       0.0063      0.001      7.000      0.000       0.005       0.008\n",
      "exp            24.7015     44.086      0.560      0.578     -63.805     113.208\n",
      "pop_density -3722.6076   9198.634     -0.405      0.687   -2.22e+04    1.47e+04\n",
      "==============================================================================\n",
      "Omnibus:                       10.805   Durbin-Watson:                   1.683\n",
      "Prob(Omnibus):                  0.005   Jarque-Bera (JB):               11.142\n",
      "Skew:                           0.864   Prob(JB):                      0.00381\n",
      "Kurtosis:                       4.369   Cond. No.                     3.24e+07\n",
      "==============================================================================\n",
      "\n",
      "Warnings:\n",
      "[1] Standard Errors assume that the covariance matrix of the errors is correctly specified.\n",
      "[2] The condition number is large, 3.24e+07. This might indicate that there are\n",
      "strong multicollinearity or other numerical problems.\n"
     ]
    }
   ],
   "source": [
    "#2018 regression on home values\n",
    "\n",
    "response = 'med_value'\n",
    "predictors = ['med_hhinc','exp','pop_density']\n",
    "\n",
    "data = gdf_2018_all[[response] + predictors].dropna()\n",
    "\n",
    "X = data[predictors]\n",
    "Y = data[response]\n",
    "\n",
    "model = sm.OLS(Y, sm.add_constant(X))\n",
    "result = model.fit()\n",
    "print(result.summary())"
   ]
  },
  {
   "cell_type": "code",
   "execution_count": null,
   "metadata": {},
   "outputs": [],
   "source": []
  }
 ],
 "metadata": {
  "kernelspec": {
   "display_name": "Python 3",
   "language": "python",
   "name": "python3"
  },
  "language_info": {
   "codemirror_mode": {
    "name": "ipython",
    "version": 3
   },
   "file_extension": ".py",
   "mimetype": "text/x-python",
   "name": "python",
   "nbconvert_exporter": "python",
   "pygments_lexer": "ipython3",
   "version": "3.7.6"
  }
 },
 "nbformat": 4,
 "nbformat_minor": 4
}
