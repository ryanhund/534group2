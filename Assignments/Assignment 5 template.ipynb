{
 "cells": [
  {
   "cell_type": "markdown",
   "metadata": {},
   "source": [
    "## Data Loading/Cleaning\n",
    "\n",
    "Note: this file assumes that it is located in the same directory as the 534group2 folder downloaded from github. In order to work it must be moved to that directory."
   ]
  },
  {
   "cell_type": "code",
   "execution_count": 39,
   "metadata": {},
   "outputs": [],
   "source": [
    "import geopandas as gpd\n",
    "import numpy as np\n",
    "import pandas as pd\n",
    "import seaborn as sns\n",
    "import statsmodels.api as sm\n",
    "from shapely.geometry import Point\n",
    "from scipy import stats"
   ]
  },
  {
   "cell_type": "code",
   "execution_count": 2,
   "metadata": {},
   "outputs": [],
   "source": [
    "df_2000 = pd.read_csv('534group2/ACS data/2000_tractdata.csv', dtype={'GEOID11':str})\n",
    "df_2010 = pd.read_csv('534group2/ACS data/2010_tractdata.csv', dtype={'GEOID11':str})\n",
    "df_2018 = pd.read_csv('534group2/ACS data/2018_tractdata.csv', dtype={'GEOID11':str})"
   ]
  },
  {
   "cell_type": "code",
   "execution_count": 3,
   "metadata": {},
   "outputs": [],
   "source": [
    "gdf_tracts_2010 = gpd.read_file('534group2/shapefiles/tl_2017_06_tract/')"
   ]
  },
  {
   "cell_type": "code",
   "execution_count": 4,
   "metadata": {},
   "outputs": [],
   "source": [
    "goldtracts2010 = ['206020','206031','207103','206010','207102','206020',\n",
    "                    '199000','185202','185310','199400','185100','183610',\n",
    "                    '183620','183701','183810','183520','480600','480703',\n",
    "                    '464000','463602','463700','461902','462302','462202',\n",
    "                    '462201','462301','462700','463000','463102','462900']\n",
    "\n",
    "controltracts2010 = ['203500','206032','197700','199700','207101',\n",
    "                    '203500','185204','185203','199300',\n",
    "                    '183220','183101','183820','183510','480704',\n",
    "                    '480702','463601','463900','461700',\n",
    "                    '463500','463601','462100','462400','463400',\n",
    "                    '430600','463200','462800']\n",
    "\n",
    "goldtracts2000 = ['206020','206030','207100','203500','207400',\n",
    "                    '206010','207100','197700','199000','199400',\n",
    "                    '199300','185202','185100','199300','183700','183810',\n",
    "                    '183820','183610','183620','480704','480500','480703',\n",
    "                    '480600','463900','464000','463700','463600','461900',\n",
    "                    '462200','462300','462700','463102','463000','462900']\n",
    "\n",
    "controltracts2000 = ['203300','204410','197600','203600','207300','199000',\n",
    "                    '197600','197300','185320','199201','199202','185310',\n",
    "                    '186200','201301','183101','183520','183510','183300',\n",
    "                    '183220','480804','480400','201120','183102','463800',\n",
    "                    '463500','461700','464100','462000','462100','462400',\n",
    "                    '462600','463101','430600','462500']"
   ]
  },
  {
   "cell_type": "code",
   "execution_count": 5,
   "metadata": {},
   "outputs": [],
   "source": [
    "#clean data, extract tracts from GEOIDs\n",
    "df_2000['GEOID11'] = df_2000['GEOID11'].str.slice(-6) #pull tracts out of GEOIDs\n",
    "df_2010['GEOID11'] = df_2010['GEOID11'].str.slice(-6) #pull tracts out of GEOIDs\n",
    "df_2018['GEOID11'] = df_2018['GEOID11'].str.slice(-6) #pull tracts out of GEOIDs\n",
    "\n",
    "df_2000 = df_2000.set_index('GEOID11') #set tracts as index\n",
    "df_2010 = df_2010.set_index('GEOID11') #set tracts as index\n",
    "df_2018 = df_2018.set_index('GEOID11') #set tracts as index\n",
    "\n",
    "#clean med_hhinc column\n",
    "df_2018['med_hhinc'] = df_2018['med_hhinc'].replace({'250,000+':'250000','-':'0'})\n",
    "df_2018['med_hhinc'] = df_2018['med_hhinc'].astype(float)\n",
    "\n",
    "df_2018['pct_white'] = df_2018['pct_white'].replace({'-':'0','#DIV/0!':'0'})\n",
    "df_2018['pct_white'] = df_2018['pct_white'].astype(float)\n",
    "\n",
    "df_2018['pct_poverty'] = df_2018['pct_poverty'].replace({'-':'0'})\n",
    "df_2018['pct_poverty'] = df_2018['pct_poverty'].astype(float)\n",
    "\n",
    "df_2018['uemp_rate'] = df_2018['uemp_rate'].replace({'-':'0'})\n",
    "df_2018['uemp_rate'] = df_2018['uemp_rate'].astype(float)"
   ]
  },
  {
   "cell_type": "code",
   "execution_count": 6,
   "metadata": {},
   "outputs": [],
   "source": [
    "#create new dataframes for station tracts\n",
    "df_2018_stations = df_2018.loc[goldtracts2010]\n",
    "df_2018_control = df_2018.loc[controltracts2010]\n",
    "\n",
    "df_2010_stations = df_2010.loc[goldtracts2010]\n",
    "df_2010_control = df_2010.loc[controltracts2010]"
   ]
  },
  {
   "cell_type": "code",
   "execution_count": 7,
   "metadata": {},
   "outputs": [],
   "source": [
    "#creates dataframe called df_2018_all that includes tracts from the station and control groups\n",
    "#df_2018_all has a column called 'exp' that =1 if tract is a station tract and 0 if tract is a control tract\n",
    "\n",
    "df_2018_all = df_2018.loc[goldtracts2010 + controltracts2010]\n",
    "df_2018_all['exp'] = [1 if i in goldtracts2010 else 0 for i,j in df_2018_all.iterrows()]"
   ]
  },
  {
   "cell_type": "code",
   "execution_count": 8,
   "metadata": {},
   "outputs": [],
   "source": [
    "#CLean and merge gdf_tracts_2010 with 2018 ACS data in df_2018_all\n",
    "\n",
    "gdf_tracts_2010['GEOID'] = gdf_tracts_2010['GEOID'].str.slice(-6) #pulls tracts out of GEOID column\n",
    "\n",
    "#merge the datasets on census tract codes\n",
    "gdf_2018_all = pd.merge(left=gdf_tracts_2010, right=df_2018_all, how='left', left_on='GEOID', right_on='GEOID11')"
   ]
  },
  {
   "cell_type": "markdown",
   "metadata": {},
   "source": [
    "## Regressions"
   ]
  },
  {
   "cell_type": "code",
   "execution_count": 9,
   "metadata": {},
   "outputs": [
    {
     "data": {
      "text/plain": [
       "Index(['STATEFP', 'COUNTYFP', 'TRACTCE', 'GEOID_x', 'NAME', 'NAMELSAD',\n",
       "       'MTFCC', 'FUNCSTAT', 'ALAND', 'AWATER', 'INTPTLAT', 'INTPTLON',\n",
       "       'geometry', 'GEOID_y', '16+_emp_rate', '16+_uemp_rate', 'uemp_rate',\n",
       "       'med_hhinc', 'pop', 'pct_white', 'pct_black', 'pct_asian', 'pct_other',\n",
       "       'tol_hu', 'med_value', 'pct_noins', 'pct_poverty', 'city', 'metro',\n",
       "       'med_rent', 'exp'],\n",
       "      dtype='object')"
      ]
     },
     "execution_count": 9,
     "metadata": {},
     "output_type": "execute_result"
    }
   ],
   "source": [
    "gdf_2018_all.columns"
   ]
  },
  {
   "cell_type": "code",
   "execution_count": 48,
   "metadata": {},
   "outputs": [],
   "source": [
    "#create variable for housing density\n",
    "gdf_2018_all['housing_density'] = gdf_2018_all['tol_hu'] / gdf_2018_all['ALAND']\n",
    "\n",
    "#create variable for population density\n",
    "gdf_2018_all['pop_density'] = gdf_2018_all['pop'] / gdf_2018_all['ALAND']\n",
    "\n",
    "#create variable for rent burden\n",
    "gdf_2018_all['rent_burden'] = gdf_2018_all['med_hhinc'] / gdf_2018_all['med_rent'] \n",
    "gdf_2018_all['is_burdened'] = [1 if i > 0.3 else 0 for i in gdf_2018_all['rent_burden']]"
   ]
  },
  {
   "cell_type": "code",
   "execution_count": 63,
   "metadata": {},
   "outputs": [
    {
     "name": "stdout",
     "output_type": "stream",
     "text": [
      "                            OLS Regression Results                            \n",
      "==============================================================================\n",
      "Dep. Variable:            rent_burden   R-squared:                       0.581\n",
      "Model:                            OLS   Adj. R-squared:                  0.557\n",
      "Method:                 Least Squares   F-statistic:                     24.50\n",
      "Date:                Thu, 16 Apr 2020   Prob (F-statistic):           4.42e-10\n",
      "Time:                        12:29:47   Log-Likelihood:                -196.76\n",
      "No. Observations:                  57   AIC:                             401.5\n",
      "Df Residuals:                      53   BIC:                             409.7\n",
      "Df Model:                           3                                         \n",
      "Covariance Type:            nonrobust                                         \n",
      "===============================================================================\n",
      "                  coef    std err          t      P>|t|      [0.025      0.975]\n",
      "-------------------------------------------------------------------------------\n",
      "const          39.6064      7.933      4.993      0.000      23.696      55.517\n",
      "med_hhinc       0.0002   6.53e-05      2.689      0.010    4.46e-05       0.000\n",
      "pct_poverty    -0.4112      0.195     -2.111      0.040      -0.802      -0.021\n",
      "exp            -1.3064      2.110     -0.619      0.539      -5.539       2.927\n",
      "==============================================================================\n",
      "Omnibus:                       12.491   Durbin-Watson:                   1.742\n",
      "Prob(Omnibus):                  0.002   Jarque-Bera (JB):               14.548\n",
      "Skew:                           0.882   Prob(JB):                     0.000693\n",
      "Kurtosis:                       4.736   Cond. No.                     5.87e+05\n",
      "==============================================================================\n",
      "\n",
      "Warnings:\n",
      "[1] Standard Errors assume that the covariance matrix of the errors is correctly specified.\n",
      "[2] The condition number is large, 5.87e+05. This might indicate that there are\n",
      "strong multicollinearity or other numerical problems.\n"
     ]
    }
   ],
   "source": [
    "#2018 regression on home values\n",
    "\n",
    "response = 'rent_burden'\n",
    "predictors = ['med_hhinc','pct_poverty','exp']\n",
    "\n",
    "data = gdf_2018_all[[response] + predictors].dropna()\n",
    "\n",
    "X = data[predictors]\n",
    "Y = data[response]\n",
    "\n",
    "model = sm.OLS(Y, sm.add_constant(X))\n",
    "result = model.fit()\n",
    "print(result.summary())"
   ]
  },
  {
   "cell_type": "markdown",
   "metadata": {},
   "source": [
    "### Difference in Means"
   ]
  },
  {
   "cell_type": "code",
   "execution_count": 91,
   "metadata": {},
   "outputs": [
    {
     "data": {
      "image/png": "[encoded data removed]",
      "text/plain": [
       "<Figure size 432x288 with 1 Axes>"
      ]
     },
     "metadata": {
      "needs_background": "light"
     },
     "output_type": "display_data"
    }
   ],
   "source": [
    "var = 'med_rent'\n",
    "\n",
    "exp_tracts = gdf_2018_all[gdf_2018_all['exp'] == 1]\n",
    "control_tracts = gdf_2018_all[gdf_2018_all['exp'] == 0]\n",
    "\n",
    "group1 = exp_tracts[var]\n",
    "group2 = control_tracts[var]\n",
    "\n",
    "# # what are the distributions of these two groups?\n",
    "ax = sns.kdeplot(group1, label='group1')\n",
    "ax = sns.kdeplot(group2, label='group2', ax=ax)"
   ]
  },
  {
   "cell_type": "code",
   "execution_count": 87,
   "metadata": {},
   "outputs": [
    {
     "name": "stdout",
     "output_type": "stream",
     "text": [
      "1602\n",
      "1590\n"
     ]
    }
   ],
   "source": [
    "print(int(group1.mean()))\n",
    "print(int(group2.mean()))"
   ]
  },
  {
   "cell_type": "code",
   "execution_count": 88,
   "metadata": {},
   "outputs": [
    {
     "data": {
      "text/plain": [
       "11.774074074073951"
      ]
     },
     "execution_count": 88,
     "metadata": {},
     "output_type": "execute_result"
    }
   ],
   "source": [
    "group1.mean() - group2.mean()"
   ]
  },
  {
   "cell_type": "code",
   "execution_count": 89,
   "metadata": {},
   "outputs": [
    {
     "name": "stdout",
     "output_type": "stream",
     "text": [
      "0.0936565187329529\n",
      "0.4628611812868781\n"
     ]
    }
   ],
   "source": [
    "# compute the t-stat and its p-value\n",
    "t_statistic, p_value = stats.ttest_ind(group1, group2, equal_var=False, nan_policy='omit')\n",
    "p_value = p_value / 2 #convert two-tailed p-value to one-tailed\n",
    "print(t_statistic)\n",
    "print(p_value) "
   ]
  }
 ],
 "metadata": {
  "kernelspec": {
   "display_name": "Python 3",
   "language": "python",
   "name": "python3"
  },
  "language_info": {
   "codemirror_mode": {
    "name": "ipython",
    "version": 3
   },
   "file_extension": ".py",
   "mimetype": "text/x-python",
   "name": "python",
   "nbconvert_exporter": "python",
   "pygments_lexer": "ipython3",
   "version": "3.7.6"
  }
 },
 "nbformat": 4,
 "nbformat_minor": 4
}
