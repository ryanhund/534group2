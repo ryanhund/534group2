{
 "cells": [
  {
   "cell_type": "code",
   "execution_count": 11,
   "metadata": {},
   "outputs": [],
   "source": [
    "import pandas as pd\n",
    "import geopandas as gpd\n",
    "import shapely\n",
    "\n",
    "import plotly.express as px\n",
    "import plotly.graph_objects as go\n",
    "\n",
    "gdf_goldline = gpd.read_file('534group2/shapefiles/804_Gold_Track_0316')\n",
    "\n",
    "df_2018 = pd.read_csv('534group2/ACS data/tractdata.csv')\n",
    "\n",
    "gdf_tracts_2010_2018 = gpd.read_file('534group2/shapefiles/tl_2017_06_tract')\n",
    "\n",
    "gdf_stations = gpd.read_file('804_Gold_Stations_0316')\n"
   ]
  },
  {
   "cell_type": "code",
   "execution_count": 2,
   "metadata": {},
   "outputs": [],
   "source": [
    "#Create mask for Phase 1 stations and station-adjacent tracts\n",
    "\n",
    "phase1_tracts = ['06037206020', '06037206031', '06037207103', '06037206010', '06037207102', '06037206020', '06037199000', '06037199000', '06037185202', '06037185310', '06037199400', '06037185100', '06037183610', '06037183620', '06037183701', '06037183810', '06037183520', '06037480600', '06037480703', '06037464000', '06037463602', '06037463700', '06037461902', '06037462302', '06037462202', '06037462201', '06037462301', '06037462700', '06037463000', '06037463102', '06037462900']\n",
    "df_2018 = df_2018[df_2018['GEOID11'].isin(phase1_tracts)]\n",
    "gdf_tracts_2010_2018 = gdf_tracts_2010_2018[gdf_tracts_2010_2018['GEOID'].isin(phase1_tracts)]\n",
    "\n",
    "phase1_stations = ['80409', '80410', '80411', '80412', '80413', '80414', '80415', '80416', '80417', '80418', '80419', '80420', '80421']\n",
    "gdf_stations = gdf_stations[gdf_stations['STOPNUM'].isin(phase1_stations)]"
   ]
  },
  {
   "cell_type": "code",
   "execution_count": 3,
   "metadata": {},
   "outputs": [],
   "source": [
    "#Align CRS\n",
    "#gdf_stations is based on a non-universal coordinate system and must be aligned before use\n",
    "\n",
    "gdf_goldline = gdf_goldline.to_crs(gdf_tracts_2010_2018.crs)\n",
    "gdf_stations = gdf_stations.to_crs(gdf_tracts_2010_2018.crs)"
   ]
  },
  {
   "cell_type": "code",
   "execution_count": 6,
   "metadata": {},
   "outputs": [
    {
     "data": {
      "text/html": [
       "<div>\n",
       "<style scoped>\n",
       "    .dataframe tbody tr th:only-of-type {\n",
       "        vertical-align: middle;\n",
       "    }\n",
       "\n",
       "    .dataframe tbody tr th {\n",
       "        vertical-align: top;\n",
       "    }\n",
       "\n",
       "    .dataframe thead th {\n",
       "        text-align: right;\n",
       "    }\n",
       "</style>\n",
       "<table border=\"1\" class=\"dataframe\">\n",
       "  <thead>\n",
       "    <tr style=\"text-align: right;\">\n",
       "      <th></th>\n",
       "      <th>Id</th>\n",
       "      <th>geometry</th>\n",
       "    </tr>\n",
       "  </thead>\n",
       "  <tbody>\n",
       "    <tr>\n",
       "      <th>0</th>\n",
       "      <td>0</td>\n",
       "      <td>LINESTRING (-118.15307 34.03340, -118.15401 34...</td>\n",
       "    </tr>\n",
       "    <tr>\n",
       "      <th>1</th>\n",
       "      <td>0</td>\n",
       "      <td>LINESTRING (-118.19613 34.03766, -118.19869 34...</td>\n",
       "    </tr>\n",
       "    <tr>\n",
       "      <th>2</th>\n",
       "      <td>0</td>\n",
       "      <td>LINESTRING (-118.21924 34.04731, -118.22050 34...</td>\n",
       "    </tr>\n",
       "    <tr>\n",
       "      <th>3</th>\n",
       "      <td>0</td>\n",
       "      <td>LINESTRING (-117.88991 34.13704, -117.89010 34...</td>\n",
       "    </tr>\n",
       "    <tr>\n",
       "      <th>4</th>\n",
       "      <td>0</td>\n",
       "      <td>LINESTRING (-118.19613 34.03766, -118.19594 34...</td>\n",
       "    </tr>\n",
       "  </tbody>\n",
       "</table>\n",
       "</div>"
      ],
      "text/plain": [
       "   Id                                           geometry\n",
       "0   0  LINESTRING (-118.15307 34.03340, -118.15401 34...\n",
       "1   0  LINESTRING (-118.19613 34.03766, -118.19869 34...\n",
       "2   0  LINESTRING (-118.21924 34.04731, -118.22050 34...\n",
       "3   0  LINESTRING (-117.88991 34.13704, -117.89010 34...\n",
       "4   0  LINESTRING (-118.19613 34.03766, -118.19594 34..."
      ]
     },
     "execution_count": 6,
     "metadata": {},
     "output_type": "execute_result"
    }
   ],
   "source": [
    "gdf_goldline.head()"
   ]
  },
  {
   "cell_type": "code",
   "execution_count": 4,
   "metadata": {},
   "outputs": [
    {
     "data": {
      "text/plain": [
       "(-118.26335559100039, -117.87211658899147, 34.00735885000001, 34.16915015)"
      ]
     },
     "execution_count": 4,
     "metadata": {},
     "output_type": "execute_result"
    },
    {
     "data": {
      "image/png": "[encoded data removed]",
      "text/plain": [
       "<Figure size 864x432 with 1 Axes>"
      ]
     },
     "metadata": {
      "needs_background": "light"
     },
     "output_type": "display_data"
    }
   ],
   "source": [
    "ax = gdf_goldline.plot(color='gold',figsize=(12,6))\n",
    "ax = gdf_tracts_2010_2018.plot(ax=ax)\n",
    "ax = gdf_stations.plot(ax=ax,c='gold',markersize=25)\n",
    "ax.axis('off')"
   ]
  },
  {
   "cell_type": "code",
   "execution_count": 8,
   "metadata": {},
   "outputs": [
    {
     "data": {
      "text/html": [
       "<div>\n",
       "<style scoped>\n",
       "    .dataframe tbody tr th:only-of-type {\n",
       "        vertical-align: middle;\n",
       "    }\n",
       "\n",
       "    .dataframe tbody tr th {\n",
       "        vertical-align: top;\n",
       "    }\n",
       "\n",
       "    .dataframe thead th {\n",
       "        text-align: right;\n",
       "    }\n",
       "</style>\n",
       "<table border=\"1\" class=\"dataframe\">\n",
       "  <thead>\n",
       "    <tr style=\"text-align: right;\">\n",
       "      <th></th>\n",
       "      <th>STATEFP</th>\n",
       "      <th>COUNTYFP</th>\n",
       "      <th>TRACTCE</th>\n",
       "      <th>GEOID</th>\n",
       "      <th>NAME</th>\n",
       "      <th>NAMELSAD</th>\n",
       "      <th>MTFCC</th>\n",
       "      <th>FUNCSTAT</th>\n",
       "      <th>ALAND</th>\n",
       "      <th>AWATER</th>\n",
       "      <th>INTPTLAT</th>\n",
       "      <th>INTPTLON</th>\n",
       "      <th>geometry</th>\n",
       "    </tr>\n",
       "  </thead>\n",
       "  <tbody>\n",
       "    <tr>\n",
       "      <th>0</th>\n",
       "      <td>06</td>\n",
       "      <td>001</td>\n",
       "      <td>442700</td>\n",
       "      <td>06001442700</td>\n",
       "      <td>4427</td>\n",
       "      <td>Census Tract 4427</td>\n",
       "      <td>G5020</td>\n",
       "      <td>S</td>\n",
       "      <td>1234034</td>\n",
       "      <td>0</td>\n",
       "      <td>+37.5371514</td>\n",
       "      <td>-122.0081094</td>\n",
       "      <td>POLYGON ((-122.01721 37.53932, -122.01719 37.5...</td>\n",
       "    </tr>\n",
       "    <tr>\n",
       "      <th>1</th>\n",
       "      <td>06</td>\n",
       "      <td>001</td>\n",
       "      <td>442800</td>\n",
       "      <td>06001442800</td>\n",
       "      <td>4428</td>\n",
       "      <td>Census Tract 4428</td>\n",
       "      <td>G5020</td>\n",
       "      <td>S</td>\n",
       "      <td>1278647</td>\n",
       "      <td>0</td>\n",
       "      <td>+37.5293619</td>\n",
       "      <td>-121.9931002</td>\n",
       "      <td>POLYGON ((-122.00230 37.52984, -122.00224 37.5...</td>\n",
       "    </tr>\n",
       "    <tr>\n",
       "      <th>2</th>\n",
       "      <td>06</td>\n",
       "      <td>037</td>\n",
       "      <td>204920</td>\n",
       "      <td>06037204920</td>\n",
       "      <td>2049.20</td>\n",
       "      <td>Census Tract 2049.20</td>\n",
       "      <td>G5020</td>\n",
       "      <td>S</td>\n",
       "      <td>909972</td>\n",
       "      <td>0</td>\n",
       "      <td>+34.0175004</td>\n",
       "      <td>-118.1974975</td>\n",
       "      <td>POLYGON ((-118.20284 34.01966, -118.20283 34.0...</td>\n",
       "    </tr>\n",
       "    <tr>\n",
       "      <th>3</th>\n",
       "      <td>06</td>\n",
       "      <td>037</td>\n",
       "      <td>205110</td>\n",
       "      <td>06037205110</td>\n",
       "      <td>2051.10</td>\n",
       "      <td>Census Tract 2051.10</td>\n",
       "      <td>G5020</td>\n",
       "      <td>S</td>\n",
       "      <td>286962</td>\n",
       "      <td>0</td>\n",
       "      <td>+34.0245059</td>\n",
       "      <td>-118.2142985</td>\n",
       "      <td>POLYGON ((-118.21963 34.02629, -118.21945 34.0...</td>\n",
       "    </tr>\n",
       "    <tr>\n",
       "      <th>4</th>\n",
       "      <td>06</td>\n",
       "      <td>037</td>\n",
       "      <td>205120</td>\n",
       "      <td>06037205120</td>\n",
       "      <td>2051.20</td>\n",
       "      <td>Census Tract 2051.20</td>\n",
       "      <td>G5020</td>\n",
       "      <td>S</td>\n",
       "      <td>1466129</td>\n",
       "      <td>0</td>\n",
       "      <td>+34.0187546</td>\n",
       "      <td>-118.2117956</td>\n",
       "      <td>POLYGON ((-118.22023 34.02056, -118.22018 34.0...</td>\n",
       "    </tr>\n",
       "  </tbody>\n",
       "</table>\n",
       "</div>"
      ],
      "text/plain": [
       "  STATEFP COUNTYFP TRACTCE        GEOID     NAME              NAMELSAD  MTFCC  \\\n",
       "0      06      001  442700  06001442700     4427     Census Tract 4427  G5020   \n",
       "1      06      001  442800  06001442800     4428     Census Tract 4428  G5020   \n",
       "2      06      037  204920  06037204920  2049.20  Census Tract 2049.20  G5020   \n",
       "3      06      037  205110  06037205110  2051.10  Census Tract 2051.10  G5020   \n",
       "4      06      037  205120  06037205120  2051.20  Census Tract 2051.20  G5020   \n",
       "\n",
       "  FUNCSTAT    ALAND  AWATER     INTPTLAT      INTPTLON  \\\n",
       "0        S  1234034       0  +37.5371514  -122.0081094   \n",
       "1        S  1278647       0  +37.5293619  -121.9931002   \n",
       "2        S   909972       0  +34.0175004  -118.1974975   \n",
       "3        S   286962       0  +34.0245059  -118.2142985   \n",
       "4        S  1466129       0  +34.0187546  -118.2117956   \n",
       "\n",
       "                                            geometry  \n",
       "0  POLYGON ((-122.01721 37.53932, -122.01719 37.5...  \n",
       "1  POLYGON ((-122.00230 37.52984, -122.00224 37.5...  \n",
       "2  POLYGON ((-118.20284 34.01966, -118.20283 34.0...  \n",
       "3  POLYGON ((-118.21963 34.02629, -118.21945 34.0...  \n",
       "4  POLYGON ((-118.22023 34.02056, -118.22018 34.0...  "
      ]
     },
     "execution_count": 8,
     "metadata": {},
     "output_type": "execute_result"
    }
   ],
   "source": [
    "gdf_tracts_2010_2018.head()"
   ]
  },
  {
   "cell_type": "code",
   "execution_count": 1,
   "metadata": {},
   "outputs": [
    {
     "ename": "NameError",
     "evalue": "name 'gdf_2018_all' is not defined",
     "output_type": "error",
     "traceback": [
      "\u001b[1;31m---------------------------------------------------------------------------\u001b[0m",
      "\u001b[1;31mNameError\u001b[0m                                 Traceback (most recent call last)",
      "\u001b[1;32m<ipython-input-1-d24f5958a966>\u001b[0m in \u001b[0;36m<module>\u001b[1;34m\u001b[0m\n\u001b[1;32m----> 1\u001b[1;33m \u001b[0mgdf_2018_all\u001b[0m\u001b[1;33m.\u001b[0m\u001b[0mcrs\u001b[0m\u001b[1;33m\u001b[0m\u001b[1;33m\u001b[0m\u001b[0m\n\u001b[0m",
      "\u001b[1;31mNameError\u001b[0m: name 'gdf_2018_all' is not defined"
     ]
    }
   ],
   "source": []
  }
 ],
 "metadata": {
  "kernelspec": {
   "display_name": "Python 3",
   "language": "python",
   "name": "python3"
  },
  "language_info": {
   "codemirror_mode": {
    "name": "ipython",
    "version": 3
   },
   "file_extension": ".py",
   "mimetype": "text/x-python",
   "name": "python",
   "nbconvert_exporter": "python",
   "pygments_lexer": "ipython3",
   "version": "3.7.6"
  }
 },
 "nbformat": 4,
 "nbformat_minor": 4
}
